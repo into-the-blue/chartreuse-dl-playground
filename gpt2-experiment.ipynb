{
 "cells": [
  {
   "cell_type": "code",
   "execution_count": 142,
   "metadata": {},
   "outputs": [],
   "source": [
    "from transformers import pipeline, set_seed"
   ]
  },
  {
   "cell_type": "markdown",
   "metadata": {},
   "source": [
    "### Hugging face tutorial"
   ]
  },
  {
   "cell_type": "code",
   "execution_count": 143,
   "metadata": {},
   "outputs": [
    {
     "name": "stderr",
     "output_type": "stream",
     "text": [
      "Some weights of GPT2Model were not initialized from the model checkpoint at gpt2 and are newly initialized: ['h.0.attn.masked_bias', 'h.1.attn.masked_bias', 'h.2.attn.masked_bias', 'h.3.attn.masked_bias', 'h.4.attn.masked_bias', 'h.5.attn.masked_bias', 'h.6.attn.masked_bias', 'h.7.attn.masked_bias', 'h.8.attn.masked_bias', 'h.9.attn.masked_bias', 'h.10.attn.masked_bias', 'h.11.attn.masked_bias']\n",
      "You should probably TRAIN this model on a down-stream task to be able to use it for predictions and inference.\n"
     ]
    }
   ],
   "source": [
    "generator = pipeline('text-generation', model='gpt2')"
   ]
  },
  {
   "cell_type": "code",
   "execution_count": 144,
   "metadata": {
    "scrolled": true
   },
   "outputs": [
    {
     "name": "stderr",
     "output_type": "stream",
     "text": [
      "Setting `pad_token_id` to `eos_token_id`:50256 for open-end generation.\n"
     ]
    },
    {
     "data": {
      "text/plain": [
       "[{'generated_text': 'Harry looked into the stands. Colin was sitting on a stool and looking up at her. He took the seat next to him as he stared at Yang. She looked a bit apprehensive as she stared at him, but he ignored her. \"You look like you might be getting it.\" She said in an annoyed manner. \"Look at how you look. How you look like you\\'re going to have to work harder, right?\"\\n\\n\"It\\'s okay. I\\'m done with fighting you'},\n",
       " {'generated_text': 'Harry looked into the stands. Colin was sitting on a stool in front of a group of students. She looked up at him. He looked at Colin in a sad tone, the sort of angry face he usually wore whenever asked what would happen. He nodded. Colin picked up the bowl of cereal of his favourite breakfast cereal and sat up. He quickly took the cups off the desk and ate.\\n\\nAt the end of the night, Colin took a sip of one of the coffee that had come'},\n",
       " {'generated_text': \"Harry looked into the stands. Colin was sitting on a stool in a large closet, staring out the window toward the sun. He had had a small dinner tonight.\\n\\n'You'll be surprised how many of the kids are sleeping in them!'\\n\\nThe table was laid on a big, flat table. One of Colin's daughters was sitting on it with some of her friends, and Colin was standing opposite it. His father had an English accent but not too much other than the usual cl\"},\n",
       " {'generated_text': 'Harry looked into the stands. Colin was sitting on a stool. \"Good stuff to have got,\" he said, handing over the box of paper, \"but I am going to have to go over my work.\"\\n\\n\"Well?\" Colin began to look at him.\\n\\n\"Oh. Sorry to bother you, but…I was gonna have to have to go through another round of the job before I went over it. You don\\'t have a business degree.\"\\n\\n\"Wait,'},\n",
       " {'generated_text': 'Harry looked into the stands. Colin was sitting on a stool, his head lying with his hands on his thighs, looking at the audience. \"Look, that didn\\'t take anything away from what I knew you were doing in the past. Do you want to learn as long as you keep the rest of the week going?\"\\n\\nKazuha\\'s eyes fixed as he shook his head. He had a moment, then came to the conclusion that he should wait a while longer between the two'}]"
      ]
     },
     "execution_count": 144,
     "metadata": {},
     "output_type": "execute_result"
    }
   ],
   "source": [
    "generator('Harry looked into the stands. Colin was sitting on a stool', max_length=100, num_return_sequences=5)"
   ]
  },
  {
   "cell_type": "markdown",
   "metadata": {},
   "source": [
    "### fastai experiment"
   ]
  },
  {
   "cell_type": "code",
   "execution_count": 9,
   "metadata": {},
   "outputs": [],
   "source": [
    "from transformers import GPT2Tokenizer, GPT2Model, GPT2LMHeadModel\n",
    "import torch\n",
    "tokenizer = GPT2Tokenizer.from_pretrained('gpt2')\n",
    "model = GPT2LMHeadModel.from_pretrained('gpt2')"
   ]
  },
  {
   "cell_type": "code",
   "execution_count": 7,
   "metadata": {},
   "outputs": [
    {
     "data": {
      "text/plain": [
       "[14824, 2105, 319, 23251, 259, 6644, 873]"
      ]
     },
     "execution_count": 7,
     "metadata": {},
     "output_type": "execute_result"
    }
   ],
   "source": [
    "text = 'Tripping on hallucinogenics'\n",
    "encoded_input = tokenizer.encode(text)\n",
    "encoded_input"
   ]
  },
  {
   "cell_type": "code",
   "execution_count": 8,
   "metadata": {},
   "outputs": [
    {
     "data": {
      "text/plain": [
       "'Tripping on hallucinogenics'"
      ]
     },
     "execution_count": 8,
     "metadata": {},
     "output_type": "execute_result"
    }
   ],
   "source": [
    "tokenizer.decode(encoded_input)"
   ]
  },
  {
   "cell_type": "code",
   "execution_count": 10,
   "metadata": {},
   "outputs": [
    {
     "name": "stderr",
     "output_type": "stream",
     "text": [
      "Setting `pad_token_id` to `eos_token_id`:50256 for open-end generation.\n"
     ]
    }
   ],
   "source": [
    "t1 = torch.LongTensor(encoded_input)[None]\n",
    "preds = model.generate(t1)"
   ]
  },
  {
   "cell_type": "code",
   "execution_count": 11,
   "metadata": {
    "scrolled": true
   },
   "outputs": [
    {
     "data": {
      "text/plain": [
       "tensor([[14824,  2105,   319, 23251,   259,  6644,   873,   318,   257,  2219,\n",
       "          3357,   287,   262,  1578,  1829,    13,   198,   198,   464,  2563]])"
      ]
     },
     "execution_count": 11,
     "metadata": {},
     "output_type": "execute_result"
    }
   ],
   "source": [
    "preds"
   ]
  },
  {
   "cell_type": "code",
   "execution_count": 12,
   "metadata": {},
   "outputs": [
    {
     "data": {
      "text/plain": [
       "'Tripping on hallucinogenics is a common practice in the United States.\\n\\nThe drug'"
      ]
     },
     "execution_count": 12,
     "metadata": {},
     "output_type": "execute_result"
    }
   ],
   "source": [
    "tokenizer.decode(preds[0])"
   ]
  },
  {
   "cell_type": "markdown",
   "metadata": {},
   "source": [
    "### integrate with fastai"
   ]
  },
  {
   "cell_type": "code",
   "execution_count": 13,
   "metadata": {},
   "outputs": [],
   "source": [
    "from fastai.text.all import *"
   ]
  },
  {
   "cell_type": "code",
   "execution_count": 40,
   "metadata": {},
   "outputs": [],
   "source": [
    "def get_text_data():\n",
    "    pth = Path('../data')\n",
    "    files = get_text_files(pth).sorted()\n",
    "    txt = [f.open(encoding='gb18030').read() for f in files]\n",
    "    return txt"
   ]
  },
  {
   "cell_type": "code",
   "execution_count": 138,
   "metadata": {},
   "outputs": [],
   "source": [
    "txt = get_text_data()"
   ]
  },
  {
   "cell_type": "code",
   "execution_count": 34,
   "metadata": {},
   "outputs": [
    {
     "data": {
      "text/plain": [
       "Path('../data/harry potter4.txt')"
      ]
     },
     "execution_count": 34,
     "metadata": {},
     "output_type": "execute_result"
    }
   ],
   "source": [
    "pth = Path('../data')/'harry potter4.txt'\n",
    "pth"
   ]
  },
  {
   "cell_type": "code",
   "execution_count": 44,
   "metadata": {},
   "outputs": [
    {
     "data": {
      "text/plain": [
       "(['--------------------',\n",
       "  '---',\n",
       "  'ĠPage',\n",
       "  'Ġ1',\n",
       "  '--------------------',\n",
       "  '---',\n",
       "  'ĊĊ',\n",
       "  'Ġ',\n",
       "  'Ġ',\n",
       "  'ĠThe',\n",
       "  'ĠCome',\n",
       "  'plete',\n",
       "  'ĠHarry',\n",
       "  'ĠPotter',\n",
       "  'ĠCollection',\n",
       "  'Ġ',\n",
       "  'Ġ',\n",
       "  'Ċ',\n",
       "  'Ġ',\n",
       "  'Ċ'],\n",
       " '----------------------- Page 1-----------------------\\n\\n   The Comeplete Harry Potter Collection  \\n \\n')"
      ]
     },
     "execution_count": 44,
     "metadata": {},
     "output_type": "execute_result"
    }
   ],
   "source": [
    "tokenizer.tokenize(txt[0][:100]),txt[0][:100]"
   ]
  },
  {
   "cell_type": "code",
   "execution_count": 49,
   "metadata": {},
   "outputs": [],
   "source": [
    "class TransformersTokenizer(Transform):\n",
    "    def __init__(self, tokenizer):\n",
    "        self.tokenizer = tokenizer\n",
    "        \n",
    "    def encodes(self, x):\n",
    "        toks = self.tokenizer.tokenize(x)\n",
    "        return tensor(\n",
    "            self.tokenizer.convert_tokens_to_ids(toks)\n",
    "        )\n",
    "    \n",
    "    def decodes(self,x):\n",
    "        return TitledStr(self.tokenizer.decode(x.cpu()))"
   ]
  },
  {
   "cell_type": "markdown",
   "metadata": {},
   "source": [
    "- in encodes we don't use the tokenizer.encode method since it does some additional preprocessing for the model after tokenizing and numericalizing (the part throwing a warning before). Here we don't need any post-processing so it's fine to skip it.\n",
    "- in decodes we return a TitledStr object and not just a plain string. That's a fastai class that adds a show method to the string, which will allow us to use all the fastai show methods."
   ]
  },
  {
   "cell_type": "code",
   "execution_count": 46,
   "metadata": {},
   "outputs": [
    {
     "data": {
      "text/plain": [
       "tensor([19351,  6329,  7873,   352, 19351,  6329,   628,   220,   220,   383,\n",
       "         7911,  6677,  5850, 14179, 12251,   220,   220,   198,   220,   198])"
      ]
     },
     "execution_count": 46,
     "metadata": {},
     "output_type": "execute_result"
    }
   ],
   "source": [
    "toks = tokenizer.tokenize(txt[0][:100])\n",
    "t1 = tensor(tokenizer.convert_tokens_to_ids(toks))\n",
    "t1"
   ]
  },
  {
   "cell_type": "code",
   "execution_count": 76,
   "metadata": {},
   "outputs": [
    {
     "data": {
      "text/plain": [
       "7"
      ]
     },
     "execution_count": 76,
     "metadata": {},
     "output_type": "execute_result"
    }
   ],
   "source": [
    "len(txt)"
   ]
  },
  {
   "cell_type": "markdown",
   "metadata": {},
   "source": [
    "### fastai data"
   ]
  },
  {
   "cell_type": "code",
   "execution_count": 50,
   "metadata": {},
   "outputs": [
    {
     "data": {
      "text/html": [],
      "text/plain": [
       "<IPython.core.display.HTML object>"
      ]
     },
     "metadata": {},
     "output_type": "display_data"
    }
   ],
   "source": [
    "path = untar_data(URLs.WIKITEXT_TINY)"
   ]
  },
  {
   "cell_type": "code",
   "execution_count": 52,
   "metadata": {},
   "outputs": [],
   "source": [
    "all_texts = np.concatenate([df_train[0].values, df_valid[0].values])"
   ]
  },
  {
   "cell_type": "code",
   "execution_count": 64,
   "metadata": {},
   "outputs": [],
   "source": [
    "splits = [[0,1,2,3,4],[5,6]]\n",
    "tls = TfmdLists(txt, TransformersTokenizer(tokenizer), splits=splits, dl_type=LMDataLoader)"
   ]
  },
  {
   "cell_type": "code",
   "execution_count": 78,
   "metadata": {},
   "outputs": [
    {
     "data": {
      "text/plain": [
       "(5, 2)"
      ]
     },
     "execution_count": 78,
     "metadata": {},
     "output_type": "execute_result"
    }
   ],
   "source": [
    "len(tls.train),len(tls.valid)"
   ]
  },
  {
   "cell_type": "code",
   "execution_count": 80,
   "metadata": {
    "scrolled": true
   },
   "outputs": [
    {
     "data": {
      "text/plain": [
       "149901"
      ]
     },
     "execution_count": 80,
     "metadata": {},
     "output_type": "execute_result"
    }
   ],
   "source": [
    "len(tls.train[0])"
   ]
  },
  {
   "cell_type": "code",
   "execution_count": 81,
   "metadata": {},
   "outputs": [],
   "source": [
    "bs = 4\n",
    "sl = 256\n",
    "dls = tls.dataloaders(bs=4, seq_len=sl)"
   ]
  },
  {
   "cell_type": "code",
   "execution_count": 83,
   "metadata": {},
   "outputs": [],
   "source": [
    "x,y = first(dls.train)"
   ]
  },
  {
   "cell_type": "code",
   "execution_count": 85,
   "metadata": {},
   "outputs": [
    {
     "data": {
      "text/plain": [
       "(torch.Size([4, 256]), torch.Size([4, 256]))"
      ]
     },
     "execution_count": 85,
     "metadata": {},
     "output_type": "execute_result"
    }
   ],
   "source": [
    "x.shape,y.shape"
   ]
  },
  {
   "cell_type": "code",
   "execution_count": null,
   "metadata": {},
   "outputs": [],
   "source": [
    "dls.show_batch(max_n=2)"
   ]
  },
  {
   "cell_type": "code",
   "execution_count": 88,
   "metadata": {},
   "outputs": [],
   "source": [
    "class DropOutput(Callback):\n",
    "    def after_pred(self):\n",
    "        self.learn.pred = self.pred[0]"
   ]
  },
  {
   "cell_type": "code",
   "execution_count": 91,
   "metadata": {},
   "outputs": [],
   "source": [
    "learn = Learner(dls, model, loss_func=CrossEntropyLossFlat(), cbs=[DropOutput], metrics=[accuracy, Perplexity()]).to_fp16()"
   ]
  },
  {
   "cell_type": "code",
   "execution_count": 92,
   "metadata": {},
   "outputs": [
    {
     "data": {
      "text/html": [],
      "text/plain": [
       "<IPython.core.display.HTML object>"
      ]
     },
     "metadata": {},
     "output_type": "display_data"
    },
    {
     "data": {
      "text/plain": [
       "(#3) [3.6438446044921875,0.3942023813724518,38.23856735229492]"
      ]
     },
     "execution_count": 92,
     "metadata": {},
     "output_type": "execute_result"
    }
   ],
   "source": [
    "learn.validate()"
   ]
  },
  {
   "cell_type": "code",
   "execution_count": 93,
   "metadata": {},
   "outputs": [
    {
     "data": {
      "text/html": [],
      "text/plain": [
       "<IPython.core.display.HTML object>"
      ]
     },
     "metadata": {},
     "output_type": "display_data"
    },
    {
     "data": {
      "text/plain": [
       "SuggestedLRs(lr_min=0.017378008365631102, lr_steep=0.14454397559165955)"
      ]
     },
     "execution_count": 93,
     "metadata": {},
     "output_type": "execute_result"
    },
    {
     "data": {
      "image/png": "[encoded data removed]",
      "text/plain": [
       "<Figure size 432x288 with 1 Axes>"
      ]
     },
     "metadata": {
      "needs_background": "light"
     },
     "output_type": "display_data"
    }
   ],
   "source": [
    "learn.lr_find()"
   ]
  },
  {
   "cell_type": "code",
   "execution_count": 94,
   "metadata": {
    "scrolled": true
   },
   "outputs": [
    {
     "data": {
      "text/html": [
       "<table border=\"1\" class=\"dataframe\">\n",
       "  <thead>\n",
       "    <tr style=\"text-align: left;\">\n",
       "      <th>epoch</th>\n",
       "      <th>train_loss</th>\n",
       "      <th>valid_loss</th>\n",
       "      <th>accuracy</th>\n",
       "      <th>perplexity</th>\n",
       "      <th>time</th>\n",
       "    </tr>\n",
       "  </thead>\n",
       "  <tbody>\n",
       "    <tr>\n",
       "      <td>0</td>\n",
       "      <td>2.624687</td>\n",
       "      <td>4.227454</td>\n",
       "      <td>0.371931</td>\n",
       "      <td>68.542511</td>\n",
       "      <td>53:41</td>\n",
       "    </tr>\n",
       "  </tbody>\n",
       "</table>"
      ],
      "text/plain": [
       "<IPython.core.display.HTML object>"
      ]
     },
     "metadata": {},
     "output_type": "display_data"
    }
   ],
   "source": [
    "learn.fit_one_cycle(1, 3e-4)"
   ]
  },
  {
   "cell_type": "code",
   "execution_count": 155,
   "metadata": {},
   "outputs": [
    {
     "data": {
      "text/html": [
       "<table border=\"1\" class=\"dataframe\">\n",
       "  <thead>\n",
       "    <tr style=\"text-align: left;\">\n",
       "      <th>epoch</th>\n",
       "      <th>train_loss</th>\n",
       "      <th>valid_loss</th>\n",
       "      <th>accuracy</th>\n",
       "      <th>perplexity</th>\n",
       "      <th>time</th>\n",
       "    </tr>\n",
       "  </thead>\n",
       "  <tbody>\n",
       "    <tr>\n",
       "      <td>0</td>\n",
       "      <td>2.443017</td>\n",
       "      <td>4.227674</td>\n",
       "      <td>0.379385</td>\n",
       "      <td>68.557587</td>\n",
       "      <td>1:15:12</td>\n",
       "    </tr>\n",
       "  </tbody>\n",
       "</table>"
      ],
      "text/plain": [
       "<IPython.core.display.HTML object>"
      ]
     },
     "metadata": {},
     "output_type": "display_data"
    }
   ],
   "source": [
    "learn.fit_one_cycle(1, 1e-4)"
   ]
  },
  {
   "cell_type": "code",
   "execution_count": 97,
   "metadata": {},
   "outputs": [
    {
     "data": {
      "text/plain": [
       "LMTensorText([ 3114,   329,  1223,   220,   220,   198,  5562,   561,  1037,   683,\n",
       "         3551,   465, 14268,    11,   366,    54,  2007, 21460,   287,   262,\n",
       "         6675, 20283,   220,   220,   198, 19085,  1601,  8920, 13248,   306,\n",
       "         6252,  1203,  2112,   526,   220,   220,   198,   220,   198,   464,\n",
       "          627,   359, 24487,   379,   262,  1353,   286,   257,  1884,    12,\n",
       "        11534,  7322,    13,  5850,   350,  7474], device='cuda:0')"
      ]
     },
     "execution_count": 97,
     "metadata": {},
     "output_type": "execute_result"
    }
   ],
   "source": [
    "x[0][200:300]"
   ]
  },
  {
   "cell_type": "code",
   "execution_count": 99,
   "metadata": {},
   "outputs": [
    {
     "data": {
      "text/plain": [
       "' looked for something  \\nthat would help him write his essay, \"Witch Burning in the Fourteenth  \\nCentury Was Completely Pointless discuss.\"  \\n \\nThe quill paused at the top of a likely-looking paragraph. Harry Pushed'"
      ]
     },
     "execution_count": 99,
     "metadata": {},
     "output_type": "execute_result"
    }
   ],
   "source": [
    "tokenizer.decode(x[0][200:300])"
   ]
  },
  {
   "cell_type": "code",
   "execution_count": 156,
   "metadata": {},
   "outputs": [],
   "source": [
    "txt = 'Harry, what is wrong with you?'\n",
    "ids = tokenizer.encode(txt)\n",
    "inp = tensor(ids)[None].cuda()"
   ]
  },
  {
   "cell_type": "code",
   "execution_count": 157,
   "metadata": {},
   "outputs": [
    {
     "name": "stderr",
     "output_type": "stream",
     "text": [
      "Setting `pad_token_id` to `eos_token_id`:50256 for open-end generation.\n"
     ]
    }
   ],
   "source": [
    "preds = learn.model.generate(inp, max_length=100)"
   ]
  },
  {
   "cell_type": "code",
   "execution_count": 158,
   "metadata": {},
   "outputs": [
    {
     "data": {
      "text/plain": [
       "\"Harry, what is wrong with you?''I'm not going to tell you,' said Harry, 'I'm not going to tell you what's wrong with you. I'm not going to tell you what's wrong with you. I'm not going to tell you what's wrong with you. I'm not going to tell you what's wrong with you. I'm not going to tell you what's wrong with you. I'm not going to tell you what's wrong with you. I\""
      ]
     },
     "execution_count": 158,
     "metadata": {},
     "output_type": "execute_result"
    }
   ],
   "source": [
    "tokenizer.decode(preds[0].cpu())"
   ]
  },
  {
   "cell_type": "code",
   "execution_count": 131,
   "metadata": {},
   "outputs": [
    {
     "data": {
      "text/plain": [
       "tensor([11536,    11,   262,  3801, 11536,    11,   262,  3801, 11536,    11,\n",
       "          262,  3801, 11536,    11,   262,  3801, 11536,    11,   262,  3801,\n",
       "        11536,    11,   262,  3801, 11536,    11,   262,  3801, 11536,    11,\n",
       "          262,  3801, 11536,    11,   262,  3801, 11536,    11,   262,  3801,\n",
       "        11536,    11,   262,  3801, 11536,    11,   262,  3801, 11536,    11,\n",
       "          262,  3801, 11536,    11,   262,  3801, 11536,    11,   262,  3801,\n",
       "        11536,    11,   262,  3801, 11536,    11,   262,  3801, 11536,    11,\n",
       "          262,  3801, 11536,    11,   262,  3801, 11536,    11,   262,  3801,\n",
       "        11536,    11,   262,  3801, 11536,    11,   262,  3801, 11536,    11,\n",
       "          262,  3801, 11536,    11,   262,  3801, 11536,    11,   262,  3801,\n",
       "        11536,    11,   262,  3801, 11536,    11,   262,  3801, 11536,    11,\n",
       "          262,  3801, 11536,    11,   262,  3801, 11536,    11,   262,  3801,\n",
       "        11536,    11,   262,  3801, 11536,    11,   262,  3801, 11536,    11,\n",
       "          262,  3801, 11536,    11,   262,  3801, 11536,    11,   262,  3801,\n",
       "        11536,    11,   262,  3801, 11536,    11,   262,  3801, 11536,    11,\n",
       "          262,  3801, 11536,    11,   262,  3801, 11536,    11,   262,  3801,\n",
       "        11536,    11,   262,  3801, 11536,    11,   262,  3801, 11536,    11,\n",
       "          262,  3801, 11536,    11,   262,  3801, 11536,    11,   262,  3801,\n",
       "        11536,    11,   262,  3801, 11536,    11,   262,  3801, 11536,    11,\n",
       "          262,  3801, 11536,    11,   262,  3801, 11536,    11,   262,  3801],\n",
       "       device='cuda:0')"
      ]
     },
     "execution_count": 131,
     "metadata": {},
     "output_type": "execute_result"
    }
   ],
   "source": [
    "preds[0][200:]"
   ]
  },
  {
   "cell_type": "code",
   "execution_count": 141,
   "metadata": {},
   "outputs": [
    {
     "name": "stdout",
     "output_type": "stream",
     "text": [
      "486827\n",
      "544314\n",
      "675372\n",
      "1240897\n",
      "1499118\n",
      "1209375\n",
      "1377391\n"
     ]
    }
   ],
   "source": [
    "num_t = 0\n",
    "for t in txt:\n",
    "    num_t += len(t)\n",
    "    print(len(t))"
   ]
  },
  {
   "cell_type": "code",
   "execution_count": 142,
   "metadata": {},
   "outputs": [
    {
     "data": {
      "text/plain": [
       "7033294"
      ]
     },
     "execution_count": 142,
     "metadata": {},
     "output_type": "execute_result"
    }
   ],
   "source": [
    "num_t"
   ]
  },
  {
   "cell_type": "markdown",
   "metadata": {},
   "source": [
    "## 03-16"
   ]
  },
  {
   "cell_type": "code",
   "execution_count": 2,
   "metadata": {},
   "outputs": [],
   "source": [
    "from fastai.text.all import *\n",
    "import torch\n",
    "from transformers import GPT2Tokenizer, GPT2Model, GPT2LMHeadModel"
   ]
  },
  {
   "cell_type": "code",
   "execution_count": 78,
   "metadata": {},
   "outputs": [],
   "source": [
    "model_name = 'gpt2'\n",
    "tokenizer = GPT2Tokenizer.from_pretrained('gpt2')\n",
    "model = GPT2LMHeadModel.from_pretrained('gpt2')"
   ]
  },
  {
   "cell_type": "code",
   "execution_count": 7,
   "metadata": {
    "scrolled": true
   },
   "outputs": [
    {
     "data": {
      "text/plain": [
       "(#7) [Path('../data/harry potter4.txt'),Path('../data/harry potter3.txt'),Path('../data/harry potter5.txt'),Path('../data/harry potter2.txt'),Path('../data/harry potter1.txt'),Path('../data/harry potter6.txt'),Path('../data/harry potter7.txt')]"
      ]
     },
     "execution_count": 7,
     "metadata": {},
     "output_type": "execute_result"
    }
   ],
   "source": [
    "path = Path('../data')\n",
    "path.ls()"
   ]
  },
  {
   "cell_type": "code",
   "execution_count": 11,
   "metadata": {},
   "outputs": [
    {
     "data": {
      "text/plain": [
       "(#7) [Path('../data/harry potter1.txt'),Path('../data/harry potter2.txt'),Path('../data/harry potter3.txt'),Path('../data/harry potter4.txt'),Path('../data/harry potter5.txt'),Path('../data/harry potter6.txt'),Path('../data/harry potter7.txt')]"
      ]
     },
     "execution_count": 11,
     "metadata": {},
     "output_type": "execute_result"
    }
   ],
   "source": [
    "file_pths = path.ls().sorted()\n",
    "file_pths"
   ]
  },
  {
   "cell_type": "code",
   "execution_count": 40,
   "metadata": {},
   "outputs": [],
   "source": [
    "def read_text_in_file(pth):\n",
    "    arr = []\n",
    "    with open(pth,encoding='gb18030') as f:\n",
    "        line = f.readline()\n",
    "        while(line):\n",
    "            arr+=[line]\n",
    "            line = f.readline()\n",
    "    return arr"
   ]
  },
  {
   "cell_type": "code",
   "execution_count": 105,
   "metadata": {},
   "outputs": [],
   "source": [
    "def clean_text_data(book):\n",
    "    book = [t for t in book if len(t.strip()) > 0]\n",
    "    book = [t for t in book if '-------' not in t]\n",
    "    return book\n",
    "\n",
    "def count_n_of_txt(arr):\n",
    "    c = 0\n",
    "    for t in arr:\n",
    "        c += len(t.strip())\n",
    "    return c"
   ]
  },
  {
   "cell_type": "code",
   "execution_count": 106,
   "metadata": {},
   "outputs": [],
   "source": [
    "books = [read_text_in_file(pth) for pth in file_pths]"
   ]
  },
  {
   "cell_type": "code",
   "execution_count": 107,
   "metadata": {},
   "outputs": [],
   "source": [
    "books = [clean_text_data(b) for b in books]"
   ]
  },
  {
   "cell_type": "code",
   "execution_count": 108,
   "metadata": {},
   "outputs": [
    {
     "data": {
      "text/plain": [
       "[430682, 480511, 597809, 1112238, 1481980, 1065305, 1189193]"
      ]
     },
     "execution_count": 108,
     "metadata": {},
     "output_type": "execute_result"
    }
   ],
   "source": [
    "[count_n_of_txt(b) for b in books]"
   ]
  },
  {
   "cell_type": "code",
   "execution_count": 167,
   "metadata": {},
   "outputs": [],
   "source": [
    "def tokenize(text):\n",
    "    toks = tokenizer.tokenize(text)\n",
    "    return tensor(tokenizer.convert_tokens_to_ids(toks))\n",
    "\n",
    "class TransformersTokenizer(Transform):\n",
    "    def __init__(self, tokenizer):\n",
    "        self.tokenizer = tokenizer\n",
    "    \n",
    "    def encodes(self, x): \n",
    "        return x if isinstance(x, Tensor) else tokenize(x)\n",
    "#     def encodes(self, x):\n",
    "#         toks = self.tokenizer.tokenize(x)\n",
    "#         return tensor(\n",
    "#             self.tokenizer.convert_tokens_to_ids(toks)\n",
    "#         )\n",
    "    \n",
    "    def decodes(self,x):\n",
    "        return TitledStr(self.tokenizer.decode(x.cpu()))\n",
    "\n",
    "\n",
    "class DropOutput(Callback):\n",
    "    def after_pred(self):\n",
    "        self.learn.pred = self.pred[0]"
   ]
  },
  {
   "cell_type": "code",
   "execution_count": 145,
   "metadata": {},
   "outputs": [],
   "source": [
    "data =sum(books[:],[])"
   ]
  },
  {
   "cell_type": "code",
   "execution_count": 146,
   "metadata": {
    "scrolled": true
   },
   "outputs": [
    {
     "data": {
      "text/plain": [
       "76535"
      ]
     },
     "execution_count": 146,
     "metadata": {},
     "output_type": "execute_result"
    }
   ],
   "source": [
    "pct = math.floor(len(data)*0.9)\n",
    "pct"
   ]
  },
  {
   "cell_type": "code",
   "execution_count": 147,
   "metadata": {},
   "outputs": [],
   "source": [
    "splits = [range(0,pct), range(pct, len(data) - 1)]\n",
    "tokenized = [tokenize(t) for t in data]\n",
    "tls = TfmdLists(data, TransformersTokenizer(tokenizer), splits=splits, dl_type=LMDataLoader)\n",
    "dls = tls.dataloaders(bs=8,seq_len=256)"
   ]
  },
  {
   "cell_type": "code",
   "execution_count": 148,
   "metadata": {},
   "outputs": [],
   "source": [
    "learn = Learner(dls, model, loss_func=CrossEntropyLossFlat(), cbs=[DropOutput], metrics=[accuracy, Perplexity()]).to_fp16()"
   ]
  },
  {
   "cell_type": "code",
   "execution_count": 171,
   "metadata": {},
   "outputs": [
    {
     "data": {
      "text/html": [],
      "text/plain": [
       "<IPython.core.display.HTML object>"
      ]
     },
     "metadata": {},
     "output_type": "display_data"
    },
    {
     "data": {
      "text/plain": [
       "(#3) [2.636012077331543,0.5089584589004517,13.95743179321289]"
      ]
     },
     "execution_count": 171,
     "metadata": {},
     "output_type": "execute_result"
    }
   ],
   "source": [
    "learn.validate()"
   ]
  },
  {
   "cell_type": "code",
   "execution_count": 172,
   "metadata": {
    "scrolled": true
   },
   "outputs": [
    {
     "data": {
      "text/html": [],
      "text/plain": [
       "<IPython.core.display.HTML object>"
      ]
     },
     "metadata": {},
     "output_type": "display_data"
    },
    {
     "data": {
      "text/plain": [
       "SuggestedLRs(lr_min=0.025118863582611083, lr_steep=0.2089296132326126)"
      ]
     },
     "execution_count": 172,
     "metadata": {},
     "output_type": "execute_result"
    },
    {
     "data": {
      "image/png": "[encoded data removed]",
      "text/plain": [
       "<Figure size 432x288 with 1 Axes>"
      ]
     },
     "metadata": {
      "needs_background": "light"
     },
     "output_type": "display_data"
    }
   ],
   "source": [
    "learn.lr_find()"
   ]
  },
  {
   "cell_type": "code",
   "execution_count": 151,
   "metadata": {},
   "outputs": [
    {
     "data": {
      "text/html": [
       "<table border=\"1\" class=\"dataframe\">\n",
       "  <thead>\n",
       "    <tr style=\"text-align: left;\">\n",
       "      <th>epoch</th>\n",
       "      <th>train_loss</th>\n",
       "      <th>valid_loss</th>\n",
       "      <th>accuracy</th>\n",
       "      <th>perplexity</th>\n",
       "      <th>time</th>\n",
       "    </tr>\n",
       "  </thead>\n",
       "  <tbody>\n",
       "    <tr>\n",
       "      <td>0</td>\n",
       "      <td>2.879858</td>\n",
       "      <td>2.636012</td>\n",
       "      <td>0.508958</td>\n",
       "      <td>13.957432</td>\n",
       "      <td>02:50</td>\n",
       "    </tr>\n",
       "  </tbody>\n",
       "</table>"
      ],
      "text/plain": [
       "<IPython.core.display.HTML object>"
      ]
     },
     "metadata": {},
     "output_type": "display_data"
    }
   ],
   "source": [
    "learn.freeze()\n",
    "learn.fit_one_cycle(1,2e-3)"
   ]
  },
  {
   "cell_type": "code",
   "execution_count": null,
   "metadata": {
    "scrolled": true
   },
   "outputs": [
    {
     "data": {
      "text/html": [
       "\n",
       "    <div>\n",
       "        <style>\n",
       "            /* Turns off some styling */\n",
       "            progress {\n",
       "                /* gets rid of default border in Firefox and Opera. */\n",
       "                border: none;\n",
       "                /* Needs to be in here for Safari polyfill so background images work as expected. */\n",
       "                background-size: auto;\n",
       "            }\n",
       "            .progress-bar-interrupted, .progress-bar-interrupted::-webkit-progress-bar {\n",
       "                background: #F44336;\n",
       "            }\n",
       "        </style>\n",
       "      <progress value='0' class='' max='1' style='width:300px; height:20px; vertical-align: middle;'></progress>\n",
       "      0.00% [0/1 00:00<00:00]\n",
       "    </div>\n",
       "    \n",
       "<table border=\"1\" class=\"dataframe\">\n",
       "  <thead>\n",
       "    <tr style=\"text-align: left;\">\n",
       "      <th>epoch</th>\n",
       "      <th>train_loss</th>\n",
       "      <th>valid_loss</th>\n",
       "      <th>accuracy</th>\n",
       "      <th>perplexity</th>\n",
       "      <th>time</th>\n",
       "    </tr>\n",
       "  </thead>\n",
       "  <tbody>\n",
       "  </tbody>\n",
       "</table><p>\n",
       "\n",
       "    <div>\n",
       "        <style>\n",
       "            /* Turns off some styling */\n",
       "            progress {\n",
       "                /* gets rid of default border in Firefox and Opera. */\n",
       "                border: none;\n",
       "                /* Needs to be in here for Safari polyfill so background images work as expected. */\n",
       "                background-size: auto;\n",
       "            }\n",
       "            .progress-bar-interrupted, .progress-bar-interrupted::-webkit-progress-bar {\n",
       "                background: #F44336;\n",
       "            }\n",
       "        </style>\n",
       "      <progress value='69' class='' max='132' style='width:300px; height:20px; vertical-align: middle;'></progress>\n",
       "      52.27% [69/132 00:13<00:11 2.5797]\n",
       "    </div>\n",
       "    "
      ],
      "text/plain": [
       "<IPython.core.display.HTML object>"
      ]
     },
     "metadata": {},
     "output_type": "display_data"
    }
   ],
   "source": [
    "learn.\n",
    "learn.fit_one_cycle(1, 1e-4)"
   ]
  },
  {
   "cell_type": "code",
   "execution_count": 137,
   "metadata": {
    "scrolled": true
   },
   "outputs": [
    {
     "data": {
      "text/html": [
       "<table border=\"1\" class=\"dataframe\">\n",
       "  <thead>\n",
       "    <tr style=\"text-align: left;\">\n",
       "      <th>epoch</th>\n",
       "      <th>train_loss</th>\n",
       "      <th>valid_loss</th>\n",
       "      <th>accuracy</th>\n",
       "      <th>perplexity</th>\n",
       "      <th>time</th>\n",
       "    </tr>\n",
       "  </thead>\n",
       "  <tbody>\n",
       "    <tr>\n",
       "      <td>0</td>\n",
       "      <td>2.507210</td>\n",
       "      <td>2.906039</td>\n",
       "      <td>0.461389</td>\n",
       "      <td>18.284235</td>\n",
       "      <td>00:26</td>\n",
       "    </tr>\n",
       "  </tbody>\n",
       "</table>"
      ],
      "text/plain": [
       "<IPython.core.display.HTML object>"
      ]
     },
     "metadata": {},
     "output_type": "display_data"
    }
   ],
   "source": [
    "learn.freeze_to(-2)\n",
    "learn.fit_one_cycle(1, slice(1e-6,5e-5))"
   ]
  },
  {
   "cell_type": "code",
   "execution_count": 173,
   "metadata": {
    "scrolled": true
   },
   "outputs": [
    {
     "data": {
      "text/html": [
       "<table border=\"1\" class=\"dataframe\">\n",
       "  <thead>\n",
       "    <tr style=\"text-align: left;\">\n",
       "      <th>epoch</th>\n",
       "      <th>train_loss</th>\n",
       "      <th>valid_loss</th>\n",
       "      <th>accuracy</th>\n",
       "      <th>perplexity</th>\n",
       "      <th>time</th>\n",
       "    </tr>\n",
       "  </thead>\n",
       "  <tbody>\n",
       "    <tr>\n",
       "      <td>0</td>\n",
       "      <td>2.609533</td>\n",
       "      <td>2.644010</td>\n",
       "      <td>0.509904</td>\n",
       "      <td>14.069513</td>\n",
       "      <td>02:54</td>\n",
       "    </tr>\n",
       "  </tbody>\n",
       "</table>"
      ],
      "text/plain": [
       "<IPython.core.display.HTML object>"
      ]
     },
     "metadata": {},
     "output_type": "display_data"
    }
   ],
   "source": [
    "learn.unfreeze()\n",
    "learn.fit_one_cycle(1, slice(1e-5/(2.6**4), 1e-5))"
   ]
  },
  {
   "cell_type": "code",
   "execution_count": 168,
   "metadata": {
    "scrolled": false
   },
   "outputs": [
    {
     "data": {
      "text/html": [],
      "text/plain": [
       "<IPython.core.display.HTML object>"
      ]
     },
     "metadata": {},
     "output_type": "display_data"
    },
    {
     "data": {
      "text/plain": [
       "GPT2LMHeadModel (Input shape: 8)\n",
       "============================================================================\n",
       "Layer (type)         Output Shape         Param #    Trainable \n",
       "============================================================================\n",
       "                     8 x 256 x 768       \n",
       "Embedding                                 38597376   True      \n",
       "Embedding                                 786432     True      \n",
       "Dropout                                                        \n",
       "LayerNorm                                 1536       True      \n",
       "____________________________________________________________________________\n",
       "                     8 x 256 x 2304      \n",
       "Conv1D                                    1771776    True      \n",
       "Conv1D                                    590592     True      \n",
       "Dropout                                                        \n",
       "Dropout                                                        \n",
       "LayerNorm                                 1536       True      \n",
       "____________________________________________________________________________\n",
       "                     8 x 256 x 3072      \n",
       "Conv1D                                    2362368    True      \n",
       "____________________________________________________________________________\n",
       "                     8 x 256 x 768       \n",
       "Conv1D                                    2360064    True      \n",
       "Dropout                                                        \n",
       "LayerNorm                                 1536       True      \n",
       "____________________________________________________________________________\n",
       "                     8 x 256 x 2304      \n",
       "Conv1D                                    1771776    True      \n",
       "Conv1D                                    590592     True      \n",
       "Dropout                                                        \n",
       "Dropout                                                        \n",
       "LayerNorm                                 1536       True      \n",
       "____________________________________________________________________________\n",
       "                     8 x 256 x 3072      \n",
       "Conv1D                                    2362368    True      \n",
       "____________________________________________________________________________\n",
       "                     8 x 256 x 768       \n",
       "Conv1D                                    2360064    True      \n",
       "Dropout                                                        \n",
       "LayerNorm                                 1536       True      \n",
       "____________________________________________________________________________\n",
       "                     8 x 256 x 2304      \n",
       "Conv1D                                    1771776    True      \n",
       "Conv1D                                    590592     True      \n",
       "Dropout                                                        \n",
       "Dropout                                                        \n",
       "LayerNorm                                 1536       True      \n",
       "____________________________________________________________________________\n",
       "                     8 x 256 x 3072      \n",
       "Conv1D                                    2362368    True      \n",
       "____________________________________________________________________________\n",
       "                     8 x 256 x 768       \n",
       "Conv1D                                    2360064    True      \n",
       "Dropout                                                        \n",
       "LayerNorm                                 1536       True      \n",
       "____________________________________________________________________________\n",
       "                     8 x 256 x 2304      \n",
       "Conv1D                                    1771776    True      \n",
       "Conv1D                                    590592     True      \n",
       "Dropout                                                        \n",
       "Dropout                                                        \n",
       "LayerNorm                                 1536       True      \n",
       "____________________________________________________________________________\n",
       "                     8 x 256 x 3072      \n",
       "Conv1D                                    2362368    True      \n",
       "____________________________________________________________________________\n",
       "                     8 x 256 x 768       \n",
       "Conv1D                                    2360064    True      \n",
       "Dropout                                                        \n",
       "LayerNorm                                 1536       True      \n",
       "____________________________________________________________________________\n",
       "                     8 x 256 x 2304      \n",
       "Conv1D                                    1771776    True      \n",
       "Conv1D                                    590592     True      \n",
       "Dropout                                                        \n",
       "Dropout                                                        \n",
       "LayerNorm                                 1536       True      \n",
       "____________________________________________________________________________\n",
       "                     8 x 256 x 3072      \n",
       "Conv1D                                    2362368    True      \n",
       "____________________________________________________________________________\n",
       "                     8 x 256 x 768       \n",
       "Conv1D                                    2360064    True      \n",
       "Dropout                                                        \n",
       "LayerNorm                                 1536       True      \n",
       "____________________________________________________________________________\n",
       "                     8 x 256 x 2304      \n",
       "Conv1D                                    1771776    True      \n",
       "Conv1D                                    590592     True      \n",
       "Dropout                                                        \n",
       "Dropout                                                        \n",
       "LayerNorm                                 1536       True      \n",
       "____________________________________________________________________________\n",
       "                     8 x 256 x 3072      \n",
       "Conv1D                                    2362368    True      \n",
       "____________________________________________________________________________\n",
       "                     8 x 256 x 768       \n",
       "Conv1D                                    2360064    True      \n",
       "Dropout                                                        \n",
       "LayerNorm                                 1536       True      \n",
       "____________________________________________________________________________\n",
       "                     8 x 256 x 2304      \n",
       "Conv1D                                    1771776    True      \n",
       "Conv1D                                    590592     True      \n",
       "Dropout                                                        \n",
       "Dropout                                                        \n",
       "LayerNorm                                 1536       True      \n",
       "____________________________________________________________________________\n",
       "                     8 x 256 x 3072      \n",
       "Conv1D                                    2362368    True      \n",
       "____________________________________________________________________________\n",
       "                     8 x 256 x 768       \n",
       "Conv1D                                    2360064    True      \n",
       "Dropout                                                        \n",
       "LayerNorm                                 1536       True      \n",
       "____________________________________________________________________________\n",
       "                     8 x 256 x 2304      \n",
       "Conv1D                                    1771776    True      \n",
       "Conv1D                                    590592     True      \n",
       "Dropout                                                        \n",
       "Dropout                                                        \n",
       "LayerNorm                                 1536       True      \n",
       "____________________________________________________________________________\n",
       "                     8 x 256 x 3072      \n",
       "Conv1D                                    2362368    True      \n",
       "____________________________________________________________________________\n",
       "                     8 x 256 x 768       \n",
       "Conv1D                                    2360064    True      \n",
       "Dropout                                                        \n",
       "LayerNorm                                 1536       True      \n",
       "____________________________________________________________________________\n",
       "                     8 x 256 x 2304      \n",
       "Conv1D                                    1771776    True      \n",
       "Conv1D                                    590592     True      \n",
       "Dropout                                                        \n",
       "Dropout                                                        \n",
       "LayerNorm                                 1536       True      \n",
       "____________________________________________________________________________\n",
       "                     8 x 256 x 3072      \n",
       "Conv1D                                    2362368    True      \n",
       "____________________________________________________________________________\n",
       "                     8 x 256 x 768       \n",
       "Conv1D                                    2360064    True      \n",
       "Dropout                                                        \n",
       "LayerNorm                                 1536       True      \n",
       "____________________________________________________________________________\n",
       "                     8 x 256 x 2304      \n",
       "Conv1D                                    1771776    True      \n",
       "Conv1D                                    590592     True      \n",
       "Dropout                                                        \n",
       "Dropout                                                        \n",
       "LayerNorm                                 1536       True      \n",
       "____________________________________________________________________________\n",
       "                     8 x 256 x 3072      \n",
       "Conv1D                                    2362368    True      \n",
       "____________________________________________________________________________\n",
       "                     8 x 256 x 768       \n",
       "Conv1D                                    2360064    True      \n",
       "Dropout                                                        \n",
       "LayerNorm                                 1536       True      \n",
       "____________________________________________________________________________\n",
       "                     8 x 256 x 2304      \n",
       "Conv1D                                    1771776    True      \n",
       "Conv1D                                    590592     True      \n",
       "Dropout                                                        \n",
       "Dropout                                                        \n",
       "LayerNorm                                 1536       True      \n",
       "____________________________________________________________________________\n",
       "                     8 x 256 x 3072      \n",
       "Conv1D                                    2362368    True      \n",
       "____________________________________________________________________________\n",
       "                     8 x 256 x 768       \n",
       "Conv1D                                    2360064    True      \n",
       "Dropout                                                        \n",
       "LayerNorm                                 1536       True      \n",
       "____________________________________________________________________________\n",
       "                     8 x 256 x 2304      \n",
       "Conv1D                                    1771776    True      \n",
       "Conv1D                                    590592     True      \n",
       "Dropout                                                        \n",
       "Dropout                                                        \n",
       "LayerNorm                                 1536       True      \n",
       "____________________________________________________________________________\n",
       "                     8 x 256 x 3072      \n",
       "Conv1D                                    2362368    True      \n",
       "____________________________________________________________________________\n",
       "                     8 x 256 x 768       \n",
       "Conv1D                                    2360064    True      \n",
       "Dropout                                                        \n",
       "LayerNorm                                 1536       True      \n",
       "____________________________________________________________________________\n",
       "                     8 x 256 x 50257     \n",
       "Linear                                    38597376   True      \n",
       "____________________________________________________________________________\n",
       "\n",
       "Total params: 163,037,184\n",
       "Total trainable params: 163,037,184\n",
       "Total non-trainable params: 0\n",
       "\n",
       "Optimizer used: <function Adam at 0x7f6c52d46280>\n",
       "Loss function: FlattenedLoss of CrossEntropyLoss()\n",
       "\n",
       "Model unfrozen\n",
       "\n",
       "Callbacks:\n",
       "  - TrainEvalCallback\n",
       "  - DropOutput\n",
       "  - MixedPrecision\n",
       "  - Recorder\n",
       "  - ProgressCallback"
      ]
     },
     "execution_count": 168,
     "metadata": {},
     "output_type": "execute_result"
    }
   ],
   "source": [
    "learn.summary()"
   ]
  },
  {
   "cell_type": "code",
   "execution_count": 175,
   "metadata": {
    "scrolled": true
   },
   "outputs": [
    {
     "data": {
      "image/png": "[encoded data removed]",
      "text/plain": [
       "<Figure size 432x288 with 1 Axes>"
      ]
     },
     "metadata": {
      "needs_background": "light"
     },
     "output_type": "display_data"
    }
   ],
   "source": [
    "learn.recorder.plot_loss()"
   ]
  },
  {
   "cell_type": "code",
   "execution_count": 184,
   "metadata": {
    "scrolled": true
   },
   "outputs": [
    {
     "name": "stderr",
     "output_type": "stream",
     "text": [
      "Setting `pad_token_id` to `eos_token_id`:50256 for open-end generation.\n"
     ]
    },
    {
     "name": "stdout",
     "output_type": "stream",
     "text": [
      "torch.Size([1, 150]) She had opened the last envelope, and yellowish-green liquid smelling strongly of  \n",
      "                                                                                                                                   \n"
     ]
    }
   ],
   "source": [
    "txt = 'She had opened the last envelope, and yellowish-green liquid smelling strongly of'\n",
    "ids = tokenizer.encode(txt)\n",
    "inp = tensor(ids)[None].cuda()\n",
    "preds = learn.model.generate(inp, max_length=150,num_beams=5, \n",
    "#     num_return_sequences=5,\n",
    "#     no_repeat_ngram_size=2,\n",
    "#     repetition_penalty=1.5,\n",
    "#     top_p=0.92,\n",
    "    temperature=.85,\n",
    "#     do_sample=True,\n",
    "#     top_k=125,\n",
    "#     early_stopping=True\n",
    "                            )\n",
    "print(preds.shape, tokenizer.decode(preds[0].cpu()))"
   ]
  },
  {
   "cell_type": "code",
   "execution_count": 155,
   "metadata": {},
   "outputs": [
    {
     "data": {
      "text/plain": [
       "torch.Size([8, 256])"
      ]
     },
     "execution_count": 155,
     "metadata": {},
     "output_type": "execute_result"
    }
   ],
   "source": [
    "x, y = dls.train.one_batch()\n",
    "x.shape"
   ]
  },
  {
   "cell_type": "code",
   "execution_count": 156,
   "metadata": {},
   "outputs": [
    {
     "data": {
      "text/plain": [
       "'toward a witch who was clearly shrieking in agony - \"feel the Dementor\\'s \\n         \"Bugged?\" said Ron blankly.         \"What... put fleas on her or something?\"  \\nlamp,   stood   a   boy   Harry   recognized   at   once:   tall,   pale,   dark-haired,   and \\n         She had opened the last envelope, and yellowish-green liquid smelling strongly of  \\nwhich meant that the promising Gryffindor team Harry had been training so \\nThey left the stadium right away... He was furious they\\'d come onto the  \\npockets, looking almost wistfully at the train.  \\nwhole head swung off his neck and fell onto his shoulder as if it was on'"
      ]
     },
     "execution_count": 156,
     "metadata": {},
     "output_type": "execute_result"
    }
   ],
   "source": [
    "tokenizer.decode(x[0][:200])"
   ]
  },
  {
   "cell_type": "code",
   "execution_count": null,
   "metadata": {},
   "outputs": [],
   "source": []
  }
 ],
 "metadata": {
  "kernelspec": {
   "display_name": "Python 3",
   "language": "python",
   "name": "python3"
  },
  "language_info": {
   "codemirror_mode": {
    "name": "ipython",
    "version": 3
   },
   "file_extension": ".py",
   "mimetype": "text/x-python",
   "name": "python",
   "nbconvert_exporter": "python",
   "pygments_lexer": "ipython3",
   "version": "3.8.5"
  }
 },
 "nbformat": 4,
 "nbformat_minor": 4
}
