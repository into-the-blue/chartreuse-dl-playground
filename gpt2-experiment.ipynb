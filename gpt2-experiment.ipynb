{
 "cells": [
  {
   "cell_type": "code",
   "execution_count": 1,
   "metadata": {},
   "outputs": [],
   "source": [
    "from transformers import pipeline, set_seed"
   ]
  },
  {
   "cell_type": "markdown",
   "metadata": {},
   "source": [
    "### Hugging face tutorial"
   ]
  },
  {
   "cell_type": "code",
   "execution_count": 2,
   "metadata": {},
   "outputs": [
    {
     "name": "stderr",
     "output_type": "stream",
     "text": [
      "Some weights of GPT2Model were not initialized from the model checkpoint at gpt2 and are newly initialized: ['h.0.attn.masked_bias', 'h.1.attn.masked_bias', 'h.2.attn.masked_bias', 'h.3.attn.masked_bias', 'h.4.attn.masked_bias', 'h.5.attn.masked_bias', 'h.6.attn.masked_bias', 'h.7.attn.masked_bias', 'h.8.attn.masked_bias', 'h.9.attn.masked_bias', 'h.10.attn.masked_bias', 'h.11.attn.masked_bias']\n",
      "You should probably TRAIN this model on a down-stream task to be able to use it for predictions and inference.\n"
     ]
    }
   ],
   "source": [
    "generator = pipeline('text-generation', model='gpt2')"
   ]
  },
  {
   "cell_type": "code",
   "execution_count": 45,
   "metadata": {
    "scrolled": true
   },
   "outputs": [
    {
     "name": "stderr",
     "output_type": "stream",
     "text": [
      "Setting `pad_token_id` to `eos_token_id`:50256 for open-end generation.\n"
     ]
    },
    {
     "data": {
      "text/plain": [
       "[{'generated_text': 'as he drove toward town he thought of nothing except a large order of drills he was hoping to get that day started and that night we got back in the car. But he couldn\\'t get it done. He sat there on the ground, for all his senses, in the back seat of the car. Looking back, he says,\\n\\n\"My father never told me his plan was to blow up. I know now I know what he told me.\"\\n\\nSo while I was waiting for'}]"
      ]
     },
     "execution_count": 45,
     "metadata": {},
     "output_type": "execute_result"
    }
   ],
   "source": [
    "generator(txt, max_length=100)"
   ]
  },
  {
   "cell_type": "code",
   "execution_count": 3,
   "metadata": {},
   "outputs": [],
   "source": [
    "generator??"
   ]
  },
  {
   "cell_type": "markdown",
   "metadata": {},
   "source": [
    "### fastai experiment"
   ]
  },
  {
   "cell_type": "code",
   "execution_count": 1,
   "metadata": {},
   "outputs": [],
   "source": [
    "from transformers import GPT2Tokenizer, GPT2Model, GPT2LMHeadModel\n",
    "import torch\n",
    "tokenizer = GPT2Tokenizer.from_pretrained('gpt2')\n",
    "model = GPT2LMHeadModel.from_pretrained('gpt2')"
   ]
  },
  {
   "cell_type": "code",
   "execution_count": 2,
   "metadata": {},
   "outputs": [
    {
     "data": {
      "text/plain": [
       "[14824, 2105, 319, 23251, 259, 6644, 873]"
      ]
     },
     "execution_count": 2,
     "metadata": {},
     "output_type": "execute_result"
    }
   ],
   "source": [
    "text = 'Tripping on hallucinogenics'\n",
    "encoded_input = tokenizer.encode(text)\n",
    "encoded_input"
   ]
  },
  {
   "cell_type": "code",
   "execution_count": 3,
   "metadata": {},
   "outputs": [
    {
     "data": {
      "text/plain": [
       "'Tripping on hallucinogenics'"
      ]
     },
     "execution_count": 3,
     "metadata": {},
     "output_type": "execute_result"
    }
   ],
   "source": [
    "tokenizer.decode(encoded_input)"
   ]
  },
  {
   "cell_type": "code",
   "execution_count": 4,
   "metadata": {},
   "outputs": [
    {
     "name": "stderr",
     "output_type": "stream",
     "text": [
      "Setting `pad_token_id` to `eos_token_id`:50256 for open-end generation.\n"
     ]
    }
   ],
   "source": [
    "t1 = torch.LongTensor(encoded_input)[None]\n",
    "preds = model.generate(t1)"
   ]
  },
  {
   "cell_type": "code",
   "execution_count": 5,
   "metadata": {
    "scrolled": true
   },
   "outputs": [
    {
     "data": {
      "text/plain": [
       "tensor([[14824,  2105,   319, 23251,   259,  6644,   873,   318,   257,  2219,\n",
       "          3357,   287,   262,  1578,  1829,    13,   198,   198,   464,  2563]])"
      ]
     },
     "execution_count": 5,
     "metadata": {},
     "output_type": "execute_result"
    }
   ],
   "source": [
    "preds"
   ]
  },
  {
   "cell_type": "code",
   "execution_count": 6,
   "metadata": {
    "scrolled": true
   },
   "outputs": [
    {
     "data": {
      "text/plain": [
       "'Tripping on hallucinogenics is a common practice in the United States.\\n\\nThe drug'"
      ]
     },
     "execution_count": 6,
     "metadata": {},
     "output_type": "execute_result"
    }
   ],
   "source": [
    "tokenizer.decode(preds[0])"
   ]
  },
  {
   "cell_type": "markdown",
   "metadata": {},
   "source": [
    "### integrate with fastai"
   ]
  },
  {
   "cell_type": "code",
   "execution_count": null,
   "metadata": {},
   "outputs": [],
   "source": [
    "class TransformersTokenizer(Transform):\n",
    "    def __init__(self, tokenizer):\n",
    "        self.tokenizer = tokenizer\n",
    "        \n",
    "    def encodes(self, x):\n",
    "        toks = self.tokenizer.tokenize(x)\n",
    "        return tensor(\n",
    "            self.tokenizer.convert_tokens_to_ids(toks)\n",
    "        )\n",
    "    \n",
    "    def decodes(self,x):\n",
    "        return TitledStr(self.tokenizer.decode(x.cpu()))"
   ]
  },
  {
   "cell_type": "markdown",
   "metadata": {},
   "source": [
    "- in encodes we don't use the tokenizer.encode method since it does some additional preprocessing for the model after tokenizing and numericalizing (the part throwing a warning before). Here we don't need any post-processing so it's fine to skip it.\n",
    "- in decodes we return a TitledStr object and not just a plain string. That's a fastai class that adds a show method to the string, which will allow us to use all the fastai show methods."
   ]
  },
  {
   "cell_type": "markdown",
   "metadata": {},
   "source": [
    "## 03-16"
   ]
  },
  {
   "cell_type": "code",
   "execution_count": 2,
   "metadata": {},
   "outputs": [],
   "source": [
    "from fastai.text.all import *\n",
    "import torch\n",
    "from transformers import GPT2Tokenizer, GPT2Model, GPT2LMHeadModel,GPT2PreTrainedModel\n",
    "import re\n",
    "import codecs\n",
    "import chardet"
   ]
  },
  {
   "cell_type": "code",
   "execution_count": 3,
   "metadata": {},
   "outputs": [],
   "source": [
    "model_name = 'gpt2'\n",
    "tokenizer = GPT2Tokenizer.from_pretrained('gpt2')\n",
    "model = GPT2LMHeadModel.from_pretrained('gpt2')"
   ]
  },
  {
   "cell_type": "code",
   "execution_count": 4,
   "metadata": {
    "scrolled": false
   },
   "outputs": [],
   "source": [
    "path1 = Path('../data/harrypotter')\n",
    "path2 = Path('../data/got')"
   ]
  },
  {
   "cell_type": "code",
   "execution_count": 7,
   "metadata": {
    "scrolled": false
   },
   "outputs": [
    {
     "data": {
      "text/plain": [
       "([Path('../data/harrypotter/hp1.txt'),\n",
       "  Path('../data/harrypotter/hp2.txt'),\n",
       "  Path('../data/harrypotter/hp3.txt'),\n",
       "  Path('../data/harrypotter/hp4.txt'),\n",
       "  Path('../data/harrypotter/hp5.txt'),\n",
       "  Path('../data/harrypotter/hp6.txt'),\n",
       "  Path('../data/harrypotter/hp7.txt')],\n",
       " [Path('../data/got/GOT1.txt'),\n",
       "  Path('../data/got/GOT2.txt'),\n",
       "  Path('../data/got/GOT3.txt'),\n",
       "  Path('../data/got/GOT4.txt'),\n",
       "  Path('../data/got/GOT5.txt')])"
      ]
     },
     "execution_count": 7,
     "metadata": {},
     "output_type": "execute_result"
    }
   ],
   "source": [
    "def keep_txt(pths):\n",
    "    return [p for p in pths if p.suffix == '.txt']\n",
    "file_pths1 = [\n",
    "        *path1.ls(file_type='txt').sorted(),\n",
    "]\n",
    "file_pths1 = keep_txt(file_pths1)\n",
    "file_pths2 = keep_txt(path2.ls(file_type='txt').sorted())\n",
    "file_pths1,file_pths2"
   ]
  },
  {
   "cell_type": "code",
   "execution_count": 12,
   "metadata": {},
   "outputs": [],
   "source": [
    "def detect_encoding(pth):\n",
    "    '''\n",
    "        resp: {'encoding': 'Windows-1252', 'confidence': 0.73, 'language': ''}\n",
    "    '''\n",
    "    with open(pth,'rb') as f:\n",
    "        c = chardet.detect(f.read())\n",
    "#         if c['encoding'] != 'utf-8':\n",
    "        return c\n",
    "\n",
    "def read_text_in_file(pth,detect_enco=False):\n",
    "    arr = []\n",
    "    encoding = detect_encoding(pth)['encoding'] if detect_enco else 'utf-8'\n",
    "    with open(pth,encoding=encoding) as f:\n",
    "        line = f.readline()\n",
    "        while(line):\n",
    "            arr+=[line]\n",
    "            line = f.readline()\n",
    "    return arr\n",
    "\n",
    "def to_utf8(pth,origin_encoding):\n",
    "    if origin_encoding == 'utf-8':\n",
    "        return\n",
    "    \n",
    "    o_pth = pth\n",
    "    \n",
    "    with open(pth, 'r', encoding=origin_encoding) as f:\n",
    "        txt = f.read()\n",
    "    new_pth = pth.rename(\n",
    "        pth.parent\n",
    "        /(pth.name.replace(pth.suffix,'')+'_old'+pth.suffix)\n",
    "    )\n",
    "    with open(o_pth, 'w', encoding='utf-8') as f:\n",
    "        f.write(txt)\n",
    "        \n",
    "def re_encode(pths):\n",
    "    for pth in pths:\n",
    "        c = detect_encoding(pth)\n",
    "        if c['encoding'] != 'utf-8':\n",
    "            to_utf8(pth, c['encoding'])\n",
    "            print(pth,c['encoding'],'DONE')"
   ]
  },
  {
   "cell_type": "code",
   "execution_count": 18,
   "metadata": {},
   "outputs": [],
   "source": [
    "# def _find_page_in_line(txt):\n",
    "#     res = re.findall(r'.+(Page\\s\\d{1,}).+',txt)\n",
    "#     return len(res) > 0\n",
    "def clean_text_data(book):\n",
    "    book = [t for t in book if len(t.strip()) > 0]\n",
    "#     book = [t for t in book if not _find_page_in_line(t)]\n",
    "    return book\n",
    "\n",
    "def count_n_of_txt(arr):\n",
    "    c = 0\n",
    "    for t in arr:\n",
    "        c += len(t.strip())\n",
    "    return c"
   ]
  },
  {
   "cell_type": "code",
   "execution_count": 28,
   "metadata": {},
   "outputs": [],
   "source": [
    "books1 = [read_text_in_file(pth) for pth in file_pths1]\n",
    "books1 = [clean_text_data(b) for b in books1]\n",
    "#special procession\n",
    "books1[4] = [l.strip() for l in books1[4]]\n",
    "\n",
    "books2 = [read_text_in_file(pth) for pth in file_pths2]\n",
    "books2 = [clean_text_data(b) for b in books2]\n",
    "books2[4] = [l.strip() for l in books2[4]]"
   ]
  },
  {
   "cell_type": "code",
   "execution_count": 31,
   "metadata": {
    "scrolled": true
   },
   "outputs": [
    {
     "data": {
      "text/plain": [
       "([434129, 484354, 618222, 1100404, 1478532, 979007, 1120173],\n",
       " [1578041, 1748586, 2273832, 1652800, 2297496])"
      ]
     },
     "execution_count": 31,
     "metadata": {},
     "output_type": "execute_result"
    }
   ],
   "source": [
    "[count_n_of_txt(b) for b in books1],[count_n_of_txt(b) for b in books2]"
   ]
  },
  {
   "cell_type": "code",
   "execution_count": 32,
   "metadata": {},
   "outputs": [],
   "source": [
    "def tokenize(text):\n",
    "    toks = tokenizer.tokenize(text)\n",
    "    return tensor(tokenizer.convert_tokens_to_ids(toks))\n",
    "\n",
    "class TransformersTokenizer(Transform):\n",
    "    def __init__(self, tokenizer):\n",
    "        self.tokenizer = tokenizer\n",
    "    \n",
    "    def encodes(self, x): \n",
    "        return x if isinstance(x, Tensor) else tokenize(x)\n",
    "#     def encodes(self, x):\n",
    "#         toks = self.tokenizer.tokenize(x)\n",
    "#         return tensor(\n",
    "#             self.tokenizer.convert_tokens_to_ids(toks)\n",
    "#         )\n",
    "    \n",
    "    def decodes(self,x):\n",
    "        return TitledStr(self.tokenizer.decode(x.cpu()))\n",
    "\n",
    "\n",
    "class DropOutput(Callback):\n",
    "    def after_pred(self):\n",
    "        self.learn.pred = self.pred[0]"
   ]
  },
  {
   "cell_type": "code",
   "execution_count": 12,
   "metadata": {},
   "outputs": [],
   "source": [
    "def split_data(data,pct=0.9):\n",
    "    res = []\n",
    "    res2 = []\n",
    "    for o in data:\n",
    "        stop_idx = int(len(o)*0.9)\n",
    "        res.append(o[:stop_idx])\n",
    "        res2.append(o[stop_idx:])\n",
    "    split_idx = len(sum(res,[]))\n",
    "    flatten_res = sum(res+res2,[])\n",
    "    return flatten_res, [range(0,split_idx), range(split_idx, len(flatten_res))]"
   ]
  },
  {
   "cell_type": "code",
   "execution_count": 13,
   "metadata": {},
   "outputs": [],
   "source": [
    "# choose valid data from each book\n",
    "data,splits = split_data(books,0.9)"
   ]
  },
  {
   "cell_type": "code",
   "execution_count": 34,
   "metadata": {},
   "outputs": [],
   "source": [
    "# choose valid data from last book\n",
    "def split_data2(data1,data2, pct=0.9):\n",
    "    flatten1 = sum(data1, [])\n",
    "    flatten2 = sum(data2,[])\n",
    "    train = []\n",
    "    valid = []\n",
    "    stop1 = int(len(flatten1)*0.9)\n",
    "    stop2 = int(len(flatten2)*0.9)\n",
    "    train += flatten1[:stop1]\n",
    "    valid += flatten1[stop1:]\n",
    "    train += flatten2[:stop2]\n",
    "    valid += flatten2[stop2:]\n",
    "    res = train + valid\n",
    "    splits = [range(0, len(train)), range(len(train), len(res))]\n",
    "    return res,splits "
   ]
  },
  {
   "cell_type": "code",
   "execution_count": 36,
   "metadata": {},
   "outputs": [
    {
     "data": {
      "text/plain": [
       "(101707, [range(0, 91535), range(91535, 101707)])"
      ]
     },
     "execution_count": 36,
     "metadata": {},
     "output_type": "execute_result"
    }
   ],
   "source": [
    "data, splits = split_data2(books1,books2)\n",
    "len(data), splits"
   ]
  },
  {
   "cell_type": "code",
   "execution_count": 37,
   "metadata": {},
   "outputs": [],
   "source": [
    "tokenized = [tokenize(t) for t in data]\n",
    "tls = TfmdLists(data, TransformersTokenizer(tokenizer), splits=splits, dl_type=LMDataLoader)\n",
    "dls = tls.dataloaders(bs=8,seq_len=512)"
   ]
  },
  {
   "cell_type": "code",
   "execution_count": 16,
   "metadata": {},
   "outputs": [],
   "source": [
    "x,y = dls.train.one_batch()"
   ]
  },
  {
   "cell_type": "code",
   "execution_count": 144,
   "metadata": {},
   "outputs": [
    {
     "data": {
      "text/plain": [
       "'\\t\"Did he, now?\" said Madam Pomfrey approvingly. \"So we\\'ve finally got a Defense Against the Dark Arts teacher who knows his remedies?\"\\n“So, it isn’t necessary to kill the previous owner to take the possession of a wand?” asked Harry.\\nHarry\\'s heart skipped several beats.\\t\"Eleven Sickles,\" said Stan, \"but for fifteen you get \\'or chocolate, and for fifteen you get an \\'ot water bottle an\\' a toofbrush in the color of your choice.\"\\nKrum’s jaw muscles worked as if he were chewing, then he said, “Grindelvald killed many people, my grandfather, for instance. Of course, he vos never powerful in this country, they said he feared Dumbledore—and rightly, seeing how he vos finished. But this”—he pointed a finger at Xenophilius—“this is his symbol, I recognized it at vunce: Grindelvald carved it into a vall at Durmstrang ver he vos a pupil there. Some idiots copied it onto their books and clothes thinking to shock, make themselves impressive—until those of us who had lost family members to Grindelvald taught them better.”\\nWith an unmistakable bellowing roar, dragon fire burst from the exhaust, white-hot and blue, and the motorbike shot forward like a bullet with a sound of wrenching metal. Harry saw the Death Eaters swerve out of sight to avoid the deadly trail of flame, and at the same time felt the sidecar sway ominously: Its metal connections to the bike had splintered with the force of acceleration.\\n\\'Er -\\'said Harry.Harry finished his breakfast in the emptying Great Hall.  He saw Fleur Delacour get up from the Ravenclaw table and join Cedric as he crossed to the side chamber and entered.  Krum slouched off to join them shortly afterward.  Harry stayed where he was.  He really didn\\'t want to go into the chamber.  He had no family - no family who would turn up to see him risk his life, anyway.  But just as he was getting up, thinking that he might as well go up to the library and do a spot more hex research, the door of the side chamber opened, and Cedric stuck his head out.\\nIt was so deep that his feet barely touched the bottom, and'"
      ]
     },
     "execution_count": 144,
     "metadata": {},
     "output_type": "execute_result"
    }
   ],
   "source": [
    "tokenizer.decode(x[0])"
   ]
  },
  {
   "cell_type": "code",
   "execution_count": 38,
   "metadata": {},
   "outputs": [],
   "source": [
    "learn = Learner(dls, model, loss_func=CrossEntropyLossFlat(), \n",
    "                cbs=[DropOutput], \n",
    "                metrics=[accuracy, Perplexity()]).to_fp16()"
   ]
  },
  {
   "cell_type": "code",
   "execution_count": 39,
   "metadata": {},
   "outputs": [
    {
     "data": {
      "text/html": [],
      "text/plain": [
       "<IPython.core.display.HTML object>"
      ]
     },
     "metadata": {},
     "output_type": "display_data"
    },
    {
     "data": {
      "text/plain": [
       "(#3) [3.5835611820220947,0.3471890389919281,36.001522064208984]"
      ]
     },
     "execution_count": 39,
     "metadata": {},
     "output_type": "execute_result"
    }
   ],
   "source": [
    "learn.validate()"
   ]
  },
  {
   "cell_type": "code",
   "execution_count": 40,
   "metadata": {
    "scrolled": true
   },
   "outputs": [
    {
     "data": {
      "text/html": [],
      "text/plain": [
       "<IPython.core.display.HTML object>"
      ]
     },
     "metadata": {},
     "output_type": "display_data"
    },
    {
     "data": {
      "text/plain": [
       "SuggestedLRs(lr_min=0.014454397559165954, lr_steep=0.12022644281387329)"
      ]
     },
     "execution_count": 40,
     "metadata": {},
     "output_type": "execute_result"
    },
    {
     "data": {
      "image/png": "[encoded data removed]",
      "text/plain": [
       "<Figure size 432x288 with 1 Axes>"
      ]
     },
     "metadata": {
      "needs_background": "light"
     },
     "output_type": "display_data"
    }
   ],
   "source": [
    "learn.lr_find()"
   ]
  },
  {
   "cell_type": "code",
   "execution_count": 41,
   "metadata": {
    "scrolled": true
   },
   "outputs": [
    {
     "data": {
      "text/html": [
       "<table border=\"1\" class=\"dataframe\">\n",
       "  <thead>\n",
       "    <tr style=\"text-align: left;\">\n",
       "      <th>epoch</th>\n",
       "      <th>train_loss</th>\n",
       "      <th>valid_loss</th>\n",
       "      <th>accuracy</th>\n",
       "      <th>perplexity</th>\n",
       "      <th>time</th>\n",
       "    </tr>\n",
       "  </thead>\n",
       "  <tbody>\n",
       "    <tr>\n",
       "      <td>0</td>\n",
       "      <td>3.614417</td>\n",
       "      <td>3.285930</td>\n",
       "      <td>0.377239</td>\n",
       "      <td>26.733828</td>\n",
       "      <td>03:51</td>\n",
       "    </tr>\n",
       "    <tr>\n",
       "      <td>1</td>\n",
       "      <td>3.442571</td>\n",
       "      <td>3.191429</td>\n",
       "      <td>0.387524</td>\n",
       "      <td>24.323153</td>\n",
       "      <td>03:50</td>\n",
       "    </tr>\n",
       "    <tr>\n",
       "      <td>2</td>\n",
       "      <td>3.312591</td>\n",
       "      <td>3.153844</td>\n",
       "      <td>0.393331</td>\n",
       "      <td>23.425932</td>\n",
       "      <td>03:49</td>\n",
       "    </tr>\n",
       "    <tr>\n",
       "      <td>3</td>\n",
       "      <td>3.236814</td>\n",
       "      <td>3.138125</td>\n",
       "      <td>0.395360</td>\n",
       "      <td>23.060593</td>\n",
       "      <td>03:48</td>\n",
       "    </tr>\n",
       "    <tr>\n",
       "      <td>4</td>\n",
       "      <td>3.192983</td>\n",
       "      <td>3.136856</td>\n",
       "      <td>0.395925</td>\n",
       "      <td>23.031343</td>\n",
       "      <td>03:49</td>\n",
       "    </tr>\n",
       "  </tbody>\n",
       "</table>"
      ],
      "text/plain": [
       "<IPython.core.display.HTML object>"
      ]
     },
     "metadata": {},
     "output_type": "display_data"
    }
   ],
   "source": [
    "learn.fit_one_cycle(5,1e-4)"
   ]
  },
  {
   "cell_type": "code",
   "execution_count": 42,
   "metadata": {},
   "outputs": [
    {
     "data": {
      "text/html": [],
      "text/plain": [
       "<IPython.core.display.HTML object>"
      ]
     },
     "metadata": {},
     "output_type": "display_data"
    },
    {
     "data": {
      "text/plain": [
       "SuggestedLRs(lr_min=0.02089296132326126, lr_steep=0.17378008365631104)"
      ]
     },
     "execution_count": 42,
     "metadata": {},
     "output_type": "execute_result"
    },
    {
     "data": {
      "image/png": "[encoded data removed]",
      "text/plain": [
       "<Figure size 432x288 with 1 Axes>"
      ]
     },
     "metadata": {
      "needs_background": "light"
     },
     "output_type": "display_data"
    }
   ],
   "source": [
    "learn.lr_find()"
   ]
  },
  {
   "cell_type": "code",
   "execution_count": 43,
   "metadata": {
    "scrolled": false
   },
   "outputs": [
    {
     "data": {
      "text/html": [
       "<table border=\"1\" class=\"dataframe\">\n",
       "  <thead>\n",
       "    <tr style=\"text-align: left;\">\n",
       "      <th>epoch</th>\n",
       "      <th>train_loss</th>\n",
       "      <th>valid_loss</th>\n",
       "      <th>accuracy</th>\n",
       "      <th>perplexity</th>\n",
       "      <th>time</th>\n",
       "    </tr>\n",
       "  </thead>\n",
       "  <tbody>\n",
       "    <tr>\n",
       "      <td>0</td>\n",
       "      <td>3.221641</td>\n",
       "      <td>3.143217</td>\n",
       "      <td>0.395435</td>\n",
       "      <td>23.178320</td>\n",
       "      <td>03:49</td>\n",
       "    </tr>\n",
       "    <tr>\n",
       "      <td>1</td>\n",
       "      <td>3.199867</td>\n",
       "      <td>3.130648</td>\n",
       "      <td>0.396623</td>\n",
       "      <td>22.888800</td>\n",
       "      <td>03:49</td>\n",
       "    </tr>\n",
       "    <tr>\n",
       "      <td>2</td>\n",
       "      <td>3.115811</td>\n",
       "      <td>3.119941</td>\n",
       "      <td>0.398452</td>\n",
       "      <td>22.645048</td>\n",
       "      <td>03:50</td>\n",
       "    </tr>\n",
       "    <tr>\n",
       "      <td>3</td>\n",
       "      <td>3.044009</td>\n",
       "      <td>3.114776</td>\n",
       "      <td>0.400485</td>\n",
       "      <td>22.528381</td>\n",
       "      <td>03:49</td>\n",
       "    </tr>\n",
       "    <tr>\n",
       "      <td>4</td>\n",
       "      <td>2.988067</td>\n",
       "      <td>3.121321</td>\n",
       "      <td>0.400094</td>\n",
       "      <td>22.676319</td>\n",
       "      <td>03:50</td>\n",
       "    </tr>\n",
       "  </tbody>\n",
       "</table>"
      ],
      "text/plain": [
       "<IPython.core.display.HTML object>"
      ]
     },
     "metadata": {},
     "output_type": "display_data"
    }
   ],
   "source": [
    "learn.fit_one_cycle(5, slice(1e-5, 1e-4))"
   ]
  },
  {
   "cell_type": "code",
   "execution_count": 20,
   "metadata": {
    "scrolled": true
   },
   "outputs": [
    {
     "data": {
      "text/plain": [
       "Path('models/04-27-hp-gpt2-acc41-perp19_9.pth')"
      ]
     },
     "execution_count": 20,
     "metadata": {},
     "output_type": "execute_result"
    }
   ],
   "source": [
    "learn.save('./04-27-hp-gpt2-acc41-perp19_9')"
   ]
  },
  {
   "cell_type": "code",
   "execution_count": 168,
   "metadata": {
    "scrolled": true
   },
   "outputs": [
    {
     "data": {
      "text/html": [],
      "text/plain": [
       "<IPython.core.display.HTML object>"
      ]
     },
     "metadata": {},
     "output_type": "display_data"
    },
    {
     "data": {
      "text/plain": [
       "GPT2LMHeadModel (Input shape: 8)\n",
       "============================================================================\n",
       "Layer (type)         Output Shape         Param #    Trainable \n",
       "============================================================================\n",
       "                     8 x 256 x 768       \n",
       "Embedding                                 38597376   True      \n",
       "Embedding                                 786432     True      \n",
       "Dropout                                                        \n",
       "LayerNorm                                 1536       True      \n",
       "____________________________________________________________________________\n",
       "                     8 x 256 x 2304      \n",
       "Conv1D                                    1771776    True      \n",
       "Conv1D                                    590592     True      \n",
       "Dropout                                                        \n",
       "Dropout                                                        \n",
       "LayerNorm                                 1536       True      \n",
       "____________________________________________________________________________\n",
       "                     8 x 256 x 3072      \n",
       "Conv1D                                    2362368    True      \n",
       "____________________________________________________________________________\n",
       "                     8 x 256 x 768       \n",
       "Conv1D                                    2360064    True      \n",
       "Dropout                                                        \n",
       "LayerNorm                                 1536       True      \n",
       "____________________________________________________________________________\n",
       "                     8 x 256 x 2304      \n",
       "Conv1D                                    1771776    True      \n",
       "Conv1D                                    590592     True      \n",
       "Dropout                                                        \n",
       "Dropout                                                        \n",
       "LayerNorm                                 1536       True      \n",
       "____________________________________________________________________________\n",
       "                     8 x 256 x 3072      \n",
       "Conv1D                                    2362368    True      \n",
       "____________________________________________________________________________\n",
       "                     8 x 256 x 768       \n",
       "Conv1D                                    2360064    True      \n",
       "Dropout                                                        \n",
       "LayerNorm                                 1536       True      \n",
       "____________________________________________________________________________\n",
       "                     8 x 256 x 2304      \n",
       "Conv1D                                    1771776    True      \n",
       "Conv1D                                    590592     True      \n",
       "Dropout                                                        \n",
       "Dropout                                                        \n",
       "LayerNorm                                 1536       True      \n",
       "____________________________________________________________________________\n",
       "                     8 x 256 x 3072      \n",
       "Conv1D                                    2362368    True      \n",
       "____________________________________________________________________________\n",
       "                     8 x 256 x 768       \n",
       "Conv1D                                    2360064    True      \n",
       "Dropout                                                        \n",
       "LayerNorm                                 1536       True      \n",
       "____________________________________________________________________________\n",
       "                     8 x 256 x 2304      \n",
       "Conv1D                                    1771776    True      \n",
       "Conv1D                                    590592     True      \n",
       "Dropout                                                        \n",
       "Dropout                                                        \n",
       "LayerNorm                                 1536       True      \n",
       "____________________________________________________________________________\n",
       "                     8 x 256 x 3072      \n",
       "Conv1D                                    2362368    True      \n",
       "____________________________________________________________________________\n",
       "                     8 x 256 x 768       \n",
       "Conv1D                                    2360064    True      \n",
       "Dropout                                                        \n",
       "LayerNorm                                 1536       True      \n",
       "____________________________________________________________________________\n",
       "                     8 x 256 x 2304      \n",
       "Conv1D                                    1771776    True      \n",
       "Conv1D                                    590592     True      \n",
       "Dropout                                                        \n",
       "Dropout                                                        \n",
       "LayerNorm                                 1536       True      \n",
       "____________________________________________________________________________\n",
       "                     8 x 256 x 3072      \n",
       "Conv1D                                    2362368    True      \n",
       "____________________________________________________________________________\n",
       "                     8 x 256 x 768       \n",
       "Conv1D                                    2360064    True      \n",
       "Dropout                                                        \n",
       "LayerNorm                                 1536       True      \n",
       "____________________________________________________________________________\n",
       "                     8 x 256 x 2304      \n",
       "Conv1D                                    1771776    True      \n",
       "Conv1D                                    590592     True      \n",
       "Dropout                                                        \n",
       "Dropout                                                        \n",
       "LayerNorm                                 1536       True      \n",
       "____________________________________________________________________________\n",
       "                     8 x 256 x 3072      \n",
       "Conv1D                                    2362368    True      \n",
       "____________________________________________________________________________\n",
       "                     8 x 256 x 768       \n",
       "Conv1D                                    2360064    True      \n",
       "Dropout                                                        \n",
       "LayerNorm                                 1536       True      \n",
       "____________________________________________________________________________\n",
       "                     8 x 256 x 2304      \n",
       "Conv1D                                    1771776    True      \n",
       "Conv1D                                    590592     True      \n",
       "Dropout                                                        \n",
       "Dropout                                                        \n",
       "LayerNorm                                 1536       True      \n",
       "____________________________________________________________________________\n",
       "                     8 x 256 x 3072      \n",
       "Conv1D                                    2362368    True      \n",
       "____________________________________________________________________________\n",
       "                     8 x 256 x 768       \n",
       "Conv1D                                    2360064    True      \n",
       "Dropout                                                        \n",
       "LayerNorm                                 1536       True      \n",
       "____________________________________________________________________________\n",
       "                     8 x 256 x 2304      \n",
       "Conv1D                                    1771776    True      \n",
       "Conv1D                                    590592     True      \n",
       "Dropout                                                        \n",
       "Dropout                                                        \n",
       "LayerNorm                                 1536       True      \n",
       "____________________________________________________________________________\n",
       "                     8 x 256 x 3072      \n",
       "Conv1D                                    2362368    True      \n",
       "____________________________________________________________________________\n",
       "                     8 x 256 x 768       \n",
       "Conv1D                                    2360064    True      \n",
       "Dropout                                                        \n",
       "LayerNorm                                 1536       True      \n",
       "____________________________________________________________________________\n",
       "                     8 x 256 x 2304      \n",
       "Conv1D                                    1771776    True      \n",
       "Conv1D                                    590592     True      \n",
       "Dropout                                                        \n",
       "Dropout                                                        \n",
       "LayerNorm                                 1536       True      \n",
       "____________________________________________________________________________\n",
       "                     8 x 256 x 3072      \n",
       "Conv1D                                    2362368    True      \n",
       "____________________________________________________________________________\n",
       "                     8 x 256 x 768       \n",
       "Conv1D                                    2360064    True      \n",
       "Dropout                                                        \n",
       "LayerNorm                                 1536       True      \n",
       "____________________________________________________________________________\n",
       "                     8 x 256 x 2304      \n",
       "Conv1D                                    1771776    True      \n",
       "Conv1D                                    590592     True      \n",
       "Dropout                                                        \n",
       "Dropout                                                        \n",
       "LayerNorm                                 1536       True      \n",
       "____________________________________________________________________________\n",
       "                     8 x 256 x 3072      \n",
       "Conv1D                                    2362368    True      \n",
       "____________________________________________________________________________\n",
       "                     8 x 256 x 768       \n",
       "Conv1D                                    2360064    True      \n",
       "Dropout                                                        \n",
       "LayerNorm                                 1536       True      \n",
       "____________________________________________________________________________\n",
       "                     8 x 256 x 2304      \n",
       "Conv1D                                    1771776    True      \n",
       "Conv1D                                    590592     True      \n",
       "Dropout                                                        \n",
       "Dropout                                                        \n",
       "LayerNorm                                 1536       True      \n",
       "____________________________________________________________________________\n",
       "                     8 x 256 x 3072      \n",
       "Conv1D                                    2362368    True      \n",
       "____________________________________________________________________________\n",
       "                     8 x 256 x 768       \n",
       "Conv1D                                    2360064    True      \n",
       "Dropout                                                        \n",
       "LayerNorm                                 1536       True      \n",
       "____________________________________________________________________________\n",
       "                     8 x 256 x 2304      \n",
       "Conv1D                                    1771776    True      \n",
       "Conv1D                                    590592     True      \n",
       "Dropout                                                        \n",
       "Dropout                                                        \n",
       "LayerNorm                                 1536       True      \n",
       "____________________________________________________________________________\n",
       "                     8 x 256 x 3072      \n",
       "Conv1D                                    2362368    True      \n",
       "____________________________________________________________________________\n",
       "                     8 x 256 x 768       \n",
       "Conv1D                                    2360064    True      \n",
       "Dropout                                                        \n",
       "LayerNorm                                 1536       True      \n",
       "____________________________________________________________________________\n",
       "                     8 x 256 x 50257     \n",
       "Linear                                    38597376   True      \n",
       "____________________________________________________________________________\n",
       "\n",
       "Total params: 163,037,184\n",
       "Total trainable params: 163,037,184\n",
       "Total non-trainable params: 0\n",
       "\n",
       "Optimizer used: <function Adam at 0x7f6c52d46280>\n",
       "Loss function: FlattenedLoss of CrossEntropyLoss()\n",
       "\n",
       "Model unfrozen\n",
       "\n",
       "Callbacks:\n",
       "  - TrainEvalCallback\n",
       "  - DropOutput\n",
       "  - MixedPrecision\n",
       "  - Recorder\n",
       "  - ProgressCallback"
      ]
     },
     "execution_count": 168,
     "metadata": {},
     "output_type": "execute_result"
    }
   ],
   "source": [
    "learn.summary()"
   ]
  },
  {
   "cell_type": "code",
   "execution_count": 64,
   "metadata": {},
   "outputs": [
    {
     "data": {
      "text/plain": [
       "GPT2LMHeadModel(\n",
       "  (transformer): GPT2Model(\n",
       "    (wte): Embedding(50257, 768)\n",
       "    (wpe): Embedding(1024, 768)\n",
       "    (drop): Dropout(p=0.1, inplace=False)\n",
       "    (h): ModuleList(\n",
       "      (0): Block(\n",
       "        (ln_1): LayerNorm((768,), eps=1e-05, elementwise_affine=True)\n",
       "        (attn): Attention(\n",
       "          (c_attn): Conv1D()\n",
       "          (c_proj): Conv1D()\n",
       "          (attn_dropout): Dropout(p=0.1, inplace=False)\n",
       "          (resid_dropout): Dropout(p=0.1, inplace=False)\n",
       "        )\n",
       "        (ln_2): LayerNorm((768,), eps=1e-05, elementwise_affine=True)\n",
       "        (mlp): MLP(\n",
       "          (c_fc): Conv1D()\n",
       "          (c_proj): Conv1D()\n",
       "          (dropout): Dropout(p=0.1, inplace=False)\n",
       "        )\n",
       "      )\n",
       "      (1): Block(\n",
       "        (ln_1): LayerNorm((768,), eps=1e-05, elementwise_affine=True)\n",
       "        (attn): Attention(\n",
       "          (c_attn): Conv1D()\n",
       "          (c_proj): Conv1D()\n",
       "          (attn_dropout): Dropout(p=0.1, inplace=False)\n",
       "          (resid_dropout): Dropout(p=0.1, inplace=False)\n",
       "        )\n",
       "        (ln_2): LayerNorm((768,), eps=1e-05, elementwise_affine=True)\n",
       "        (mlp): MLP(\n",
       "          (c_fc): Conv1D()\n",
       "          (c_proj): Conv1D()\n",
       "          (dropout): Dropout(p=0.1, inplace=False)\n",
       "        )\n",
       "      )\n",
       "      (2): Block(\n",
       "        (ln_1): LayerNorm((768,), eps=1e-05, elementwise_affine=True)\n",
       "        (attn): Attention(\n",
       "          (c_attn): Conv1D()\n",
       "          (c_proj): Conv1D()\n",
       "          (attn_dropout): Dropout(p=0.1, inplace=False)\n",
       "          (resid_dropout): Dropout(p=0.1, inplace=False)\n",
       "        )\n",
       "        (ln_2): LayerNorm((768,), eps=1e-05, elementwise_affine=True)\n",
       "        (mlp): MLP(\n",
       "          (c_fc): Conv1D()\n",
       "          (c_proj): Conv1D()\n",
       "          (dropout): Dropout(p=0.1, inplace=False)\n",
       "        )\n",
       "      )\n",
       "      (3): Block(\n",
       "        (ln_1): LayerNorm((768,), eps=1e-05, elementwise_affine=True)\n",
       "        (attn): Attention(\n",
       "          (c_attn): Conv1D()\n",
       "          (c_proj): Conv1D()\n",
       "          (attn_dropout): Dropout(p=0.1, inplace=False)\n",
       "          (resid_dropout): Dropout(p=0.1, inplace=False)\n",
       "        )\n",
       "        (ln_2): LayerNorm((768,), eps=1e-05, elementwise_affine=True)\n",
       "        (mlp): MLP(\n",
       "          (c_fc): Conv1D()\n",
       "          (c_proj): Conv1D()\n",
       "          (dropout): Dropout(p=0.1, inplace=False)\n",
       "        )\n",
       "      )\n",
       "      (4): Block(\n",
       "        (ln_1): LayerNorm((768,), eps=1e-05, elementwise_affine=True)\n",
       "        (attn): Attention(\n",
       "          (c_attn): Conv1D()\n",
       "          (c_proj): Conv1D()\n",
       "          (attn_dropout): Dropout(p=0.1, inplace=False)\n",
       "          (resid_dropout): Dropout(p=0.1, inplace=False)\n",
       "        )\n",
       "        (ln_2): LayerNorm((768,), eps=1e-05, elementwise_affine=True)\n",
       "        (mlp): MLP(\n",
       "          (c_fc): Conv1D()\n",
       "          (c_proj): Conv1D()\n",
       "          (dropout): Dropout(p=0.1, inplace=False)\n",
       "        )\n",
       "      )\n",
       "      (5): Block(\n",
       "        (ln_1): LayerNorm((768,), eps=1e-05, elementwise_affine=True)\n",
       "        (attn): Attention(\n",
       "          (c_attn): Conv1D()\n",
       "          (c_proj): Conv1D()\n",
       "          (attn_dropout): Dropout(p=0.1, inplace=False)\n",
       "          (resid_dropout): Dropout(p=0.1, inplace=False)\n",
       "        )\n",
       "        (ln_2): LayerNorm((768,), eps=1e-05, elementwise_affine=True)\n",
       "        (mlp): MLP(\n",
       "          (c_fc): Conv1D()\n",
       "          (c_proj): Conv1D()\n",
       "          (dropout): Dropout(p=0.1, inplace=False)\n",
       "        )\n",
       "      )\n",
       "      (6): Block(\n",
       "        (ln_1): LayerNorm((768,), eps=1e-05, elementwise_affine=True)\n",
       "        (attn): Attention(\n",
       "          (c_attn): Conv1D()\n",
       "          (c_proj): Conv1D()\n",
       "          (attn_dropout): Dropout(p=0.1, inplace=False)\n",
       "          (resid_dropout): Dropout(p=0.1, inplace=False)\n",
       "        )\n",
       "        (ln_2): LayerNorm((768,), eps=1e-05, elementwise_affine=True)\n",
       "        (mlp): MLP(\n",
       "          (c_fc): Conv1D()\n",
       "          (c_proj): Conv1D()\n",
       "          (dropout): Dropout(p=0.1, inplace=False)\n",
       "        )\n",
       "      )\n",
       "      (7): Block(\n",
       "        (ln_1): LayerNorm((768,), eps=1e-05, elementwise_affine=True)\n",
       "        (attn): Attention(\n",
       "          (c_attn): Conv1D()\n",
       "          (c_proj): Conv1D()\n",
       "          (attn_dropout): Dropout(p=0.1, inplace=False)\n",
       "          (resid_dropout): Dropout(p=0.1, inplace=False)\n",
       "        )\n",
       "        (ln_2): LayerNorm((768,), eps=1e-05, elementwise_affine=True)\n",
       "        (mlp): MLP(\n",
       "          (c_fc): Conv1D()\n",
       "          (c_proj): Conv1D()\n",
       "          (dropout): Dropout(p=0.1, inplace=False)\n",
       "        )\n",
       "      )\n",
       "      (8): Block(\n",
       "        (ln_1): LayerNorm((768,), eps=1e-05, elementwise_affine=True)\n",
       "        (attn): Attention(\n",
       "          (c_attn): Conv1D()\n",
       "          (c_proj): Conv1D()\n",
       "          (attn_dropout): Dropout(p=0.1, inplace=False)\n",
       "          (resid_dropout): Dropout(p=0.1, inplace=False)\n",
       "        )\n",
       "        (ln_2): LayerNorm((768,), eps=1e-05, elementwise_affine=True)\n",
       "        (mlp): MLP(\n",
       "          (c_fc): Conv1D()\n",
       "          (c_proj): Conv1D()\n",
       "          (dropout): Dropout(p=0.1, inplace=False)\n",
       "        )\n",
       "      )\n",
       "      (9): Block(\n",
       "        (ln_1): LayerNorm((768,), eps=1e-05, elementwise_affine=True)\n",
       "        (attn): Attention(\n",
       "          (c_attn): Conv1D()\n",
       "          (c_proj): Conv1D()\n",
       "          (attn_dropout): Dropout(p=0.1, inplace=False)\n",
       "          (resid_dropout): Dropout(p=0.1, inplace=False)\n",
       "        )\n",
       "        (ln_2): LayerNorm((768,), eps=1e-05, elementwise_affine=True)\n",
       "        (mlp): MLP(\n",
       "          (c_fc): Conv1D()\n",
       "          (c_proj): Conv1D()\n",
       "          (dropout): Dropout(p=0.1, inplace=False)\n",
       "        )\n",
       "      )\n",
       "      (10): Block(\n",
       "        (ln_1): LayerNorm((768,), eps=1e-05, elementwise_affine=True)\n",
       "        (attn): Attention(\n",
       "          (c_attn): Conv1D()\n",
       "          (c_proj): Conv1D()\n",
       "          (attn_dropout): Dropout(p=0.1, inplace=False)\n",
       "          (resid_dropout): Dropout(p=0.1, inplace=False)\n",
       "        )\n",
       "        (ln_2): LayerNorm((768,), eps=1e-05, elementwise_affine=True)\n",
       "        (mlp): MLP(\n",
       "          (c_fc): Conv1D()\n",
       "          (c_proj): Conv1D()\n",
       "          (dropout): Dropout(p=0.1, inplace=False)\n",
       "        )\n",
       "      )\n",
       "      (11): Block(\n",
       "        (ln_1): LayerNorm((768,), eps=1e-05, elementwise_affine=True)\n",
       "        (attn): Attention(\n",
       "          (c_attn): Conv1D()\n",
       "          (c_proj): Conv1D()\n",
       "          (attn_dropout): Dropout(p=0.1, inplace=False)\n",
       "          (resid_dropout): Dropout(p=0.1, inplace=False)\n",
       "        )\n",
       "        (ln_2): LayerNorm((768,), eps=1e-05, elementwise_affine=True)\n",
       "        (mlp): MLP(\n",
       "          (c_fc): Conv1D()\n",
       "          (c_proj): Conv1D()\n",
       "          (dropout): Dropout(p=0.1, inplace=False)\n",
       "        )\n",
       "      )\n",
       "    )\n",
       "    (ln_f): LayerNorm((768,), eps=1e-05, elementwise_affine=True)\n",
       "  )\n",
       "  (lm_head): Linear(in_features=768, out_features=50257, bias=False)\n",
       ")"
      ]
     },
     "execution_count": 64,
     "metadata": {},
     "output_type": "execute_result"
    }
   ],
   "source": [
    "learn.model"
   ]
  },
  {
   "cell_type": "code",
   "execution_count": 22,
   "metadata": {
    "scrolled": false
   },
   "outputs": [
    {
     "data": {
      "image/png": "[encoded data removed]",
      "text/plain": [
       "<Figure size 432x288 with 1 Axes>"
      ]
     },
     "metadata": {
      "needs_background": "light"
     },
     "output_type": "display_data"
    }
   ],
   "source": [
    "learn.recorder.plot_loss()"
   ]
  },
  {
   "cell_type": "code",
   "execution_count": 48,
   "metadata": {},
   "outputs": [],
   "source": [
    "modelc = model.cpu()"
   ]
  },
  {
   "cell_type": "code",
   "execution_count": 50,
   "metadata": {
    "scrolled": true
   },
   "outputs": [
    {
     "name": "stdout",
     "output_type": "stream",
     "text": [
      "torch.Size([1, 100])\n"
     ]
    }
   ],
   "source": [
    "txt = \"This one come walking along as bold as you please,\"\n",
    "ids = tokenizer.encode(txt)\n",
    "inp = tensor(ids)[None].cuda()\n",
    "beam_search_and_ngram = {\n",
    "    'num_beams':5,\n",
    "    #'num_return_sequences':5, # <=beams\n",
    "    'no_repeat_ngram_size':2,\n",
    "    \n",
    "}\n",
    "top_k_sampling = {\n",
    "    'do_sample':True,\n",
    "    'top_k':50\n",
    "}\n",
    "\n",
    "top_p = {\n",
    "    'do_sample':True,\n",
    "    'top_p': 0.92,\n",
    "    'top_k': 50\n",
    "}\n",
    "preds = model.generate(inp, max_length=100,\n",
    "                        pad_token_id=tokenizer.eos_token_id,\n",
    "                    #     repetition_penalty=1.5,\n",
    "                        temperature=.7,\n",
    "                        early_stopping=True,\n",
    "                        **top_p\n",
    "                                                )\n",
    "print(preds.shape)"
   ]
  },
  {
   "cell_type": "code",
   "execution_count": 51,
   "metadata": {
    "scrolled": true
   },
   "outputs": [
    {
     "data": {
      "text/plain": [
       "'This one come walking along as bold as you please, and he\\'s a bit of a bully. He\\'s been trying to kill me for years, I can tell you. He\\'s got a lot of trouble with his tongue. He\\'s been beating me, and it\\'s all because of the book.\"\\nThe man in the yellow cloak was tall, squat, and muscular. He wore black leather jerkin over a black woolen jerkin, and a quilted cloak of thick black fur'"
      ]
     },
     "execution_count": 51,
     "metadata": {},
     "output_type": "execute_result"
    }
   ],
   "source": [
    "tokenizer.decode(preds[0].cpu(),skip_special_tokens=True)"
   ]
  },
  {
   "cell_type": "code",
   "execution_count": 49,
   "metadata": {},
   "outputs": [
    {
     "data": {
      "text/plain": [
       "'hand. \"This one come walking along as bold as you please, some ugly dwarf, so we\\n'"
      ]
     },
     "execution_count": 49,
     "metadata": {},
     "output_type": "execute_result"
    }
   ],
   "source": [
    "data[70000]"
   ]
  },
  {
   "cell_type": "code",
   "execution_count": 111,
   "metadata": {},
   "outputs": [],
   "source": [
    "modules = learn.model.modules()"
   ]
  },
  {
   "cell_type": "code",
   "execution_count": 112,
   "metadata": {},
   "outputs": [],
   "source": [
    "modules = list(modules)"
   ]
  },
  {
   "cell_type": "code",
   "execution_count": 121,
   "metadata": {},
   "outputs": [],
   "source": [
    "book1_encodings = tokenizer(books[0], truncation=True, padding=True)"
   ]
  },
  {
   "cell_type": "code",
   "execution_count": 96,
   "metadata": {},
   "outputs": [],
   "source": [
    "tokenizer.pad_token = tokenizer.eos_token"
   ]
  },
  {
   "cell_type": "code",
   "execution_count": 101,
   "metadata": {},
   "outputs": [
    {
     "data": {
      "text/plain": [
       "dict_keys(['input_ids', 'attention_mask'])"
      ]
     },
     "execution_count": 101,
     "metadata": {},
     "output_type": "execute_result"
    }
   ],
   "source": [
    "book1_encodings.keys()"
   ]
  },
  {
   "cell_type": "code",
   "execution_count": 105,
   "metadata": {},
   "outputs": [],
   "source": [
    "GPT2PreTrainedModel??"
   ]
  },
  {
   "cell_type": "code",
   "execution_count": null,
   "metadata": {},
   "outputs": [],
   "source": []
  }
 ],
 "metadata": {
  "kernelspec": {
   "display_name": "Python 3",
   "language": "python",
   "name": "python3"
  },
  "language_info": {
   "codemirror_mode": {
    "name": "ipython",
    "version": 3
   },
   "file_extension": ".py",
   "mimetype": "text/x-python",
   "name": "python",
   "nbconvert_exporter": "python",
   "pygments_lexer": "ipython3",
   "version": "3.8.2"
  }
 },
 "nbformat": 4,
 "nbformat_minor": 4
}
