{
 "cells": [
  {
   "cell_type": "code",
   "execution_count": 2,
   "metadata": {},
   "outputs": [],
   "source": [
    "import nltk"
   ]
  },
  {
   "cell_type": "markdown",
   "metadata": {},
   "source": [
    " https://www.machinelearningplus.com/nlp/nlp-exercises/"
   ]
  },
  {
   "cell_type": "code",
   "execution_count": 3,
   "metadata": {},
   "outputs": [
    {
     "name": "stderr",
     "output_type": "stream",
     "text": [
      "[nltk_data] Downloading package punkt to /Users/origami/nltk_data...\n",
      "[nltk_data]   Unzipping tokenizers/punkt.zip.\n",
      "[nltk_data] Downloading package stopwords to\n",
      "[nltk_data]     /Users/origami/nltk_data...\n",
      "[nltk_data]   Package stopwords is already up-to-date!\n"
     ]
    },
    {
     "data": {
      "text/plain": [
       "True"
      ]
     },
     "execution_count": 3,
     "metadata": {},
     "output_type": "execute_result"
    }
   ],
   "source": [
    "nltk.download('punkt')\n",
    "nltk.download('stopwords')"
   ]
  },
  {
   "cell_type": "code",
   "execution_count": 3,
   "metadata": {},
   "outputs": [],
   "source": [
    "import spacy\n",
    "nlp = spacy.load('en_core_web_sm')"
   ]
  },
  {
   "cell_type": "code",
   "execution_count": 5,
   "metadata": {},
   "outputs": [],
   "source": [
    "text=\"Last week, the University of Cambridge shared its own research that shows if everyone wears a mask outside home,dreaded ‘second wave’ of the pandemic can be avoided.\""
   ]
  },
  {
   "cell_type": "code",
   "execution_count": 6,
   "metadata": {},
   "outputs": [
    {
     "data": {
      "text/plain": [
       "['Last',\n",
       " 'week',\n",
       " ',',\n",
       " 'the',\n",
       " 'University',\n",
       " 'of',\n",
       " 'Cambridge',\n",
       " 'shared',\n",
       " 'its',\n",
       " 'own',\n",
       " 'research',\n",
       " 'that',\n",
       " 'shows',\n",
       " 'if',\n",
       " 'everyone',\n",
       " 'wears',\n",
       " 'a',\n",
       " 'mask',\n",
       " 'outside',\n",
       " 'home',\n",
       " ',',\n",
       " 'dreaded',\n",
       " '‘',\n",
       " 'second',\n",
       " 'wave',\n",
       " '’',\n",
       " 'of',\n",
       " 'the',\n",
       " 'pandemic',\n",
       " 'can',\n",
       " 'be',\n",
       " 'avoided',\n",
       " '.']"
      ]
     },
     "execution_count": 6,
     "metadata": {},
     "output_type": "execute_result"
    }
   ],
   "source": [
    "tokens = nltk.word_tokenize(text)\n",
    "tokens"
   ]
  },
  {
   "cell_type": "code",
   "execution_count": 8,
   "metadata": {},
   "outputs": [
    {
     "data": {
      "text/plain": [
       "['Last',\n",
       " 'week',\n",
       " ',',\n",
       " 'the',\n",
       " 'University',\n",
       " 'of',\n",
       " 'Cambridge',\n",
       " 'shared',\n",
       " 'its',\n",
       " 'own',\n",
       " 'research',\n",
       " 'that',\n",
       " 'shows',\n",
       " 'if',\n",
       " 'everyone',\n",
       " 'wears',\n",
       " 'a',\n",
       " 'mask',\n",
       " 'outside',\n",
       " 'home',\n",
       " ',',\n",
       " 'dreaded',\n",
       " '‘',\n",
       " 'second',\n",
       " 'wave',\n",
       " '’',\n",
       " 'of',\n",
       " 'the',\n",
       " 'pandemic',\n",
       " 'can',\n",
       " 'be',\n",
       " 'avoided',\n",
       " '.']"
      ]
     },
     "execution_count": 8,
     "metadata": {},
     "output_type": "execute_result"
    }
   ],
   "source": [
    "doc = nlp(text)\n",
    "[t.text for t in doc]"
   ]
  },
  {
   "cell_type": "code",
   "execution_count": 9,
   "metadata": {},
   "outputs": [],
   "source": [
    "text=\"\"\"The outbreak of coronavirus disease 2019 (COVID-19) has created a global health crisis that has had a deep impact on the way we perceive our world and our everyday lives. Not only the rate of contagion and patterns of transmission threatens our sense of agency, but the safety measures put in place to contain the spread of the virus also require social distancing by refraining from doing what is inherently human, which is to find solace in the company of others. Within this context of physical threat, social and physical distancing, as well as public alarm, what has been (and can be) the role of the different mass media channels in our lives on individual, social and societal levels? Mass media have long been recognized as powerful forces shaping how we experience the world and ourselves. This recognition is accompanied by a growing volume of research, that closely follows the footsteps of technological transformations (e.g. radio, movies, television, the internet, mobiles) and the zeitgeist (e.g. cold war, 9/11, climate change) in an attempt to map mass media major impacts on how we perceive ourselves, both as individuals and citizens. Are media (broadcast and digital) still able to convey a sense of unity reaching large audiences, or are messages lost in the noisy crowd of mass self-communication? \"\"\""
   ]
  },
  {
   "cell_type": "code",
   "execution_count": 10,
   "metadata": {
    "scrolled": true
   },
   "outputs": [
    {
     "data": {
      "text/plain": [
       "['The outbreak of coronavirus disease 2019 (COVID-19) has created a global health crisis that has had a deep impact on the way we perceive our world and our everyday lives.',\n",
       " 'Not only the rate of contagion and patterns of transmission threatens our sense of agency, but the safety measures put in place to contain the spread of the virus also require social distancing by refraining from doing what is inherently human, which is to find solace in the company of others.',\n",
       " 'Within this context of physical threat, social and physical distancing, as well as public alarm, what has been (and can be) the role of the different mass media channels in our lives on individual, social and societal levels?',\n",
       " 'Mass media have long been recognized as powerful forces shaping how we experience the world and ourselves.',\n",
       " 'This recognition is accompanied by a growing volume of research, that closely follows the footsteps of technological transformations (e.g.',\n",
       " 'radio, movies, television, the internet, mobiles) and the zeitgeist (e.g.',\n",
       " 'cold war, 9/11, climate change) in an attempt to map mass media major impacts on how we perceive ourselves, both as individuals and citizens.',\n",
       " 'Are media (broadcast and digital) still able to convey a sense of unity reaching large audiences, or are messages lost in the noisy crowd of mass self-communication?']"
      ]
     },
     "execution_count": 10,
     "metadata": {},
     "output_type": "execute_result"
    }
   ],
   "source": [
    "nltk.sent_tokenize(text)"
   ]
  },
  {
   "cell_type": "code",
   "execution_count": 12,
   "metadata": {},
   "outputs": [
    {
     "data": {
      "text/plain": [
       "[The outbreak of coronavirus disease 2019 (COVID-19) has created a global health crisis that has had a deep impact on the way we perceive our world and our everyday lives.,\n",
       " Not only the rate of contagion and patterns of transmission threatens our sense of agency, but the safety measures put in place to contain the spread of the virus also require social distancing by refraining from doing what is inherently human, which is to find solace in the company of others.,\n",
       " Within this context of physical threat, social and physical distancing, as well as public alarm, what has been (and can be) the role of the different mass media channels in our lives on individual, social and societal levels?,\n",
       " Mass media have long been recognized as powerful forces shaping how we experience the world and ourselves.,\n",
       " This recognition is accompanied by a growing volume of research, that closely follows the footsteps of technological transformations (e.g. radio, movies, television, the internet, mobiles) and the zeitgeist (e.g. cold war, 9/11, climate change) in an attempt to map mass media major impacts on how we perceive ourselves, both as individuals and citizens.,\n",
       " Are media (broadcast and digital) still able to convey a sense of unity reaching large audiences, or are messages lost in the noisy crowd of mass self-communication?]"
      ]
     },
     "execution_count": 12,
     "metadata": {},
     "output_type": "execute_result"
    }
   ],
   "source": [
    "doc = nlp(text)\n",
    "list(doc.sents)"
   ]
  },
  {
   "cell_type": "code",
   "execution_count": 13,
   "metadata": {},
   "outputs": [],
   "source": [
    "from transformers import AutoTokenizer\n",
    "text=\"I love spring season. I go hiking with my friends\""
   ]
  },
  {
   "cell_type": "code",
   "execution_count": 15,
   "metadata": {},
   "outputs": [
    {
     "data": {
      "text/plain": [
       "([101, 1045, 2293, 3500, 2161, 1012, 1045, 2175, 13039, 2007, 2026, 2814, 102],\n",
       " '[CLS] i love spring season. i go hiking with my friends [SEP]')"
      ]
     },
     "execution_count": 15,
     "metadata": {},
     "output_type": "execute_result"
    }
   ],
   "source": [
    "tokenizer = AutoTokenizer.from_pretrained('bert-base-uncased')\n",
    "inputs = tokenizer.encode(text)\n",
    "decodes = tokenizer.decode(inputs)\n",
    "inputs, decodes"
   ]
  },
  {
   "cell_type": "code",
   "execution_count": 18,
   "metadata": {},
   "outputs": [
    {
     "data": {
      "text/plain": [
       "['Walter',\n",
       " 'feeling anxious',\n",
       " 'He',\n",
       " 'diagnosed today',\n",
       " 'He probably',\n",
       " 'best person I know']"
      ]
     },
     "execution_count": 18,
     "metadata": {},
     "output_type": "execute_result"
    }
   ],
   "source": [
    "text = \"Walter was feeling anxious. He was diagnosed today. He probably is the best person I know.\"\n",
    "stop_words_and_delims = ['was', 'is', 'the', '.', ',', '-', '!', '?']\n",
    "for t in stop_words_and_delims:\n",
    "    text = text.replace(t, 'DELIM')\n",
    "words = [t.strip() for t  in text.split('DELIM')]\n",
    "words_filtered = [w for w in words if w not in ['']]\n",
    "words_filtered"
   ]
  },
  {
   "cell_type": "code",
   "execution_count": 19,
   "metadata": {},
   "outputs": [],
   "source": [
    "text=\"\"\"the outbreak of coronavirus disease 2019 (COVID-19) has created a global health crisis that has had a deep impact on the way we perceive our world and our everyday lives. Not only the rate of contagion and patterns of transmission threatens our sense of agency, but the safety measures put in place to contain the spread of the virus also require social distancing by refraining from doing what is inherently human, which is to find solace in the company of others. Within this context of physical threat, social and physical distancing, as well as public alarm, what has been (and can be) the role of the different mass media channels in our lives on individual, social and societal levels? Mass media have long been recognized as powerful forces shaping how we experience the world and ourselves. This recognition is accompanied by a growing volume of research, that closely follows the footsteps of technological transformations (e.g. radio, movies, television, the internet, mobiles) and the zeitgeist (e.g. cold war, 9/11, climate change) in an attempt to map mass media major impacts on how we perceive ourselves, both as individuals and citizens. Are media (broadcast and digital) still able to convey a sense of unity reaching large audiences, or are messages lost in the noisy crowd of mass self-communication? \"\"\""
   ]
  },
  {
   "cell_type": "code",
   "execution_count": 20,
   "metadata": {},
   "outputs": [
    {
     "data": {
      "text/plain": [
       "'outbreak coronavirus disease 2019 ( COVID-19 ) created global health crisis deep impact way perceive world everyday lives . Not rate contagion patterns transmission threatens sense agency , safety measures put place contain spread virus also require social distancing refraining inherently human , find solace company others . Within context physical threat , social physical distancing , well public alarm , ( ) role different mass media channels lives individual , social societal levels ? Mass media long recognized powerful forces shaping experience world . This recognition accompanied growing volume research , closely follows footsteps technological transformations ( e.g . radio , movies , television , internet , mobiles ) zeitgeist ( e.g . cold war , 9/11 , climate change ) attempt map mass media major impacts perceive , individuals citizens . Are media ( broadcast digital ) still able convey sense unity reaching large audiences , messages lost noisy crowd mass self-communication ?'"
      ]
     },
     "execution_count": 20,
     "metadata": {},
     "output_type": "execute_result"
    }
   ],
   "source": [
    "from nltk.corpus import stopwords\n",
    "my_stopwords = set(stopwords.words('english'))\n",
    "\n",
    "tokens = nltk.word_tokenize(text)\n",
    "tokens = [w for w in tokens if w not in my_stopwords]\n",
    "' '.join(tokens)"
   ]
  },
  {
   "cell_type": "code",
   "execution_count": 23,
   "metadata": {},
   "outputs": [
    {
     "data": {
      "text/plain": [
       "'outbreak coronavirus disease 2019 ( COVID-19 ) created global health crisis deep impact way perceive world everyday lives . rate contagion patterns transmission threatens sense agency , safety measures place contain spread virus require social distancing refraining inherently human , find solace company . context physical threat , social physical distancing , public alarm , ( ) role different mass media channels lives individual , social societal levels ? Mass media long recognized powerful forces shaping experience world . recognition accompanied growing volume research , closely follows footsteps technological transformations ( e.g. radio , movies , television , internet , mobiles ) zeitgeist ( e.g. cold war , 9/11 , climate change ) attempt map mass media major impacts perceive , individuals citizens . media ( broadcast digital ) able convey sense unity reaching large audiences , messages lost noisy crowd mass self - communication ?'"
      ]
     },
     "execution_count": 23,
     "metadata": {},
     "output_type": "execute_result"
    }
   ],
   "source": [
    "doc = nlp(text)\n",
    "' '.join([t.text for t in doc if t.is_stop==False])"
   ]
  },
  {
   "cell_type": "code",
   "execution_count": 24,
   "metadata": {},
   "outputs": [
    {
     "data": {
      "text/plain": [
       "'  Jonas great guy Adam evil Martha fool'"
      ]
     },
     "execution_count": 24,
     "metadata": {},
     "output_type": "execute_result"
    }
   ],
   "source": [
    "text=\" Jonas was a JUNK great guy NIL Adam was evil NIL Martha JUNK was more of a fool \"\n",
    "customized_stopwords = ['NIL','JUNK']\n",
    "\n",
    "for w in customized_stopwords:\n",
    "    nlp.vocab[w].is_stop = True\n",
    "    \n",
    "doc = nlp(text)\n",
    "' '.join([t.text for t in doc if not t.is_stop])"
   ]
  },
  {
   "cell_type": "code",
   "execution_count": 25,
   "metadata": {},
   "outputs": [],
   "source": [
    "text=\"The match has concluded !!! India has won the match . Will we fin the finals too ? !\""
   ]
  },
  {
   "cell_type": "code",
   "execution_count": 29,
   "metadata": {},
   "outputs": [
    {
     "data": {
      "text/plain": [
       "'The match has concluded India has won the match Will we fin the finals too'"
      ]
     },
     "execution_count": 29,
     "metadata": {},
     "output_type": "execute_result"
    }
   ],
   "source": [
    "doc = nlp(text)\n",
    "' '.join([t.text for t in doc if t.is_punct == False])"
   ]
  },
  {
   "cell_type": "code",
   "execution_count": 30,
   "metadata": {},
   "outputs": [
    {
     "data": {
      "text/plain": [
       "'The match has concluded India has won the match Will we fin the finals too'"
      ]
     },
     "execution_count": 30,
     "metadata": {},
     "output_type": "execute_result"
    }
   ],
   "source": [
    "tokenizer = nltk.RegexpTokenizer(r'\\w+')\n",
    "' '.join(tokenizer.tokenize(text))"
   ]
  },
  {
   "cell_type": "code",
   "execution_count": 31,
   "metadata": {},
   "outputs": [],
   "source": [
    "text= \"Dancing is an art. Students should be taught dance as a subject in schools . I danced in many of my school function. Some people are always hesitating to dance.\""
   ]
  },
  {
   "cell_type": "code",
   "execution_count": 33,
   "metadata": {},
   "outputs": [
    {
     "data": {
      "text/plain": [
       "'danc is an art . student should be taught danc as a subject in school . I danc in mani of my school function . some peopl are alway hesit to danc .'"
      ]
     },
     "execution_count": 33,
     "metadata": {},
     "output_type": "execute_result"
    }
   ],
   "source": [
    "from nltk.stem import PorterStemmer\n",
    "stemmer = PorterStemmer()\n",
    "tokens = nltk.word_tokenize(text)\n",
    "' '.join([stemmer.stem(t) for t in tokens])"
   ]
  },
  {
   "cell_type": "code",
   "execution_count": 38,
   "metadata": {},
   "outputs": [
    {
     "data": {
      "text/plain": [
       "'dancing be an art . student should be teach dance as a subject in school . -PRON- dance in many of -PRON- school function . some people be always hesitate to dance .'"
      ]
     },
     "execution_count": 38,
     "metadata": {},
     "output_type": "execute_result"
    }
   ],
   "source": [
    "doc = nlp(text)\n",
    "\n",
    "' '.join([t.lemma_ for t in doc])"
   ]
  },
  {
   "cell_type": "code",
   "execution_count": 39,
   "metadata": {},
   "outputs": [
    {
     "data": {
      "text/plain": [
       "['potter709', 'elixir101', 'granger111', 'severus77']"
      ]
     },
     "execution_count": 39,
     "metadata": {},
     "output_type": "execute_result"
    }
   ],
   "source": [
    "text= \"The new registrations are potter709@gmail.com , elixir101@gmail.com. If you find any disruptions, kindly contact granger111@gamil.com or severus77@gamil.com \"\n",
    "import re\n",
    "usernames = re.findall('(\\S+)@',text)\n",
    "usernames"
   ]
  },
  {
   "cell_type": "code",
   "execution_count": 52,
   "metadata": {},
   "outputs": [],
   "source": [
    "text=\"\"\"Junkfood - Food that do no good to our body. And there's no need of them in our body but still we willingly eat them because they are great in taste and easy to cook or ready to eat. Junk foods have no or very less nutritional value and irrespective of the way they are marketed, they are not healthy to consume.The only reason of their gaining popularity and increased trend of consumption is \n",
    "that they are ready to eat or easy to cook foods. People, of all age groups are moving towards Junkfood as it is hassle free and often ready to grab and eat. Cold drinks, chips, noodles, pizza, burgers, French fries etc. are few examples from the great variety of junk food available in the market.\n",
    " Junkfood is the most dangerous food ever but it is pleasure in eating and it gives a great taste in mouth examples of Junkfood are kurkure and chips.. cold rings are also source of junk food... they shud nt be ate in high amounts as it results fatal to our body... it cn be eated in a limited extend ... in research its found tht ths junk foods r very dangerous fr our health\n",
    "Junkfood is very harmful that is slowly eating away the health of the present generation. The term itself denotes how dangerous it is for our bodies. Most importantly, it tastes so good that people consume it on a daily basis. However, not much awareness is spread about the harmful effects of Junkfood .\n",
    "The problem is more serious than you think. Various studies show that Junkfood impacts our health negatively. They contain higher levels of calories, fats, and sugar. On the contrary, they have very low amounts of healthy nutrients and lack dietary fibers. Parents must discourage their children from consuming junk food because of the ill effects it has on one’s health.\n",
    "Junkfood is the easiest way to gain unhealthy weight. The amount of fats and sugar in the food makes you gain weight rapidly. However, this is not a healthy weight. It is more of fats and cholesterol which will have a harmful impact on your health. Junk food is also one of the main reasons for the increase in obesity nowadays.\n",
    "This food only looks and tastes good, other than that, it has no positive points. The amount of calorie your body requires to stay fit is not fulfilled by this food. For instance, foods like French fries, burgers, candy, and cookies, all have high amounts of sugar and fats. Therefore, this can result in long-term illnesses like diabetes and high blood pressure. This may also result in kidney failure.\"\"\""
   ]
  },
  {
   "cell_type": "code",
   "execution_count": 55,
   "metadata": {},
   "outputs": [
    {
     "data": {
      "text/plain": [
       "{'Junkfood': 8,\n",
       " 'Food': 1,\n",
       " 'good': 3,\n",
       " 'body': 4,\n",
       " 'need': 1,\n",
       " 'willingly': 1,\n",
       " 'eat': 4,\n",
       " 'great': 3,\n",
       " 'taste': 2,\n",
       " 'easy': 2,\n",
       " 'cook': 2,\n",
       " 'ready': 3,\n",
       " 'Junk': 2,\n",
       " 'foods': 4,\n",
       " 'nutritional': 1,\n",
       " 'value': 1,\n",
       " 'irrespective': 1,\n",
       " 'way': 2,\n",
       " 'marketed': 1,\n",
       " 'healthy': 3,\n",
       " 'consume': 2,\n",
       " 'reason': 1,\n",
       " 'gaining': 1,\n",
       " 'popularity': 1,\n",
       " 'increased': 1,\n",
       " 'trend': 1,\n",
       " 'consumption': 1,\n",
       " '\\n': 5,\n",
       " 'People': 1,\n",
       " 'age': 1,\n",
       " 'groups': 1,\n",
       " 'moving': 1,\n",
       " 'hassle': 1,\n",
       " 'free': 1,\n",
       " 'grab': 1,\n",
       " 'Cold': 1,\n",
       " 'drinks': 1,\n",
       " 'chips': 2,\n",
       " 'noodles': 1,\n",
       " 'pizza': 1,\n",
       " 'burgers': 2,\n",
       " 'French': 2,\n",
       " 'fries': 2,\n",
       " 'etc': 1,\n",
       " 'examples': 2,\n",
       " 'variety': 1,\n",
       " 'junk': 4,\n",
       " 'food': 8,\n",
       " 'available': 1,\n",
       " 'market': 1,\n",
       " '\\n ': 1,\n",
       " 'dangerous': 3,\n",
       " 'pleasure': 1,\n",
       " 'eating': 2,\n",
       " 'gives': 1,\n",
       " 'mouth': 1,\n",
       " 'kurkure': 1,\n",
       " 'cold': 1,\n",
       " 'rings': 1,\n",
       " 'source': 1,\n",
       " 'shud': 1,\n",
       " 'nt': 1,\n",
       " 'ate': 1,\n",
       " 'high': 3,\n",
       " 'amounts': 3,\n",
       " 'results': 1,\n",
       " 'fatal': 1,\n",
       " 'cn': 1,\n",
       " 'eated': 1,\n",
       " 'limited': 1,\n",
       " 'extend': 1,\n",
       " 'research': 1,\n",
       " 'found': 1,\n",
       " 'tht': 1,\n",
       " 'ths': 1,\n",
       " 'r': 1,\n",
       " 'fr': 1,\n",
       " 'health': 5,\n",
       " 'harmful': 3,\n",
       " 'slowly': 1,\n",
       " 'away': 1,\n",
       " 'present': 1,\n",
       " 'generation': 1,\n",
       " 'term': 2,\n",
       " 'denotes': 1,\n",
       " 'bodies': 1,\n",
       " 'importantly': 1,\n",
       " 'tastes': 2,\n",
       " 'people': 1,\n",
       " 'daily': 1,\n",
       " 'basis': 1,\n",
       " 'awareness': 1,\n",
       " 'spread': 1,\n",
       " 'effects': 2,\n",
       " 'problem': 1,\n",
       " 'think': 1,\n",
       " 'studies': 1,\n",
       " 'impacts': 1,\n",
       " 'negatively': 1,\n",
       " 'contain': 1,\n",
       " 'higher': 1,\n",
       " 'levels': 1,\n",
       " 'calories': 1,\n",
       " 'fats': 4,\n",
       " 'sugar': 3,\n",
       " 'contrary': 1,\n",
       " 'low': 1,\n",
       " 'nutrients': 1,\n",
       " 'lack': 1,\n",
       " 'dietary': 1,\n",
       " 'fibers': 1,\n",
       " 'Parents': 1,\n",
       " 'discourage': 1,\n",
       " 'children': 1,\n",
       " 'consuming': 1,\n",
       " 'ill': 1,\n",
       " 'easiest': 1,\n",
       " 'gain': 2,\n",
       " 'unhealthy': 1,\n",
       " 'weight': 3,\n",
       " 'makes': 1,\n",
       " 'rapidly': 1,\n",
       " 'cholesterol': 1,\n",
       " 'impact': 1,\n",
       " 'main': 1,\n",
       " 'reasons': 1,\n",
       " 'increase': 1,\n",
       " 'obesity': 1,\n",
       " 'nowadays': 1,\n",
       " 'looks': 1,\n",
       " 'positive': 1,\n",
       " 'points': 1,\n",
       " 'calorie': 1,\n",
       " 'requires': 1,\n",
       " 'stay': 1,\n",
       " 'fit': 1,\n",
       " 'fulfilled': 1,\n",
       " 'instance': 1,\n",
       " 'like': 2,\n",
       " 'candy': 1,\n",
       " 'cookies': 1,\n",
       " 'result': 2,\n",
       " 'long': 1,\n",
       " 'illnesses': 1,\n",
       " 'diabetes': 1,\n",
       " 'blood': 1,\n",
       " 'pressure': 1,\n",
       " 'kidney': 1,\n",
       " 'failure': 1}"
      ]
     },
     "execution_count": 55,
     "metadata": {},
     "output_type": "execute_result"
    }
   ],
   "source": [
    "words = [t.text for t in nlp(text) if t.is_stop == False and t.is_punct==False]\n",
    "freq = {}\n",
    "for w in words:\n",
    "    if w not in freq:\n",
    "        freq[w] = 1\n",
    "    else:\n",
    "        freq[w] += 1\n",
    "freq"
   ]
  },
  {
   "cell_type": "code",
   "execution_count": 56,
   "metadata": {},
   "outputs": [],
   "source": [
    "text=\"He is a gret person. He beleives in bod\""
   ]
  },
  {
   "cell_type": "code",
   "execution_count": 58,
   "metadata": {},
   "outputs": [],
   "source": [
    "from textblob import TextBlob"
   ]
  },
  {
   "cell_type": "code",
   "execution_count": 59,
   "metadata": {},
   "outputs": [
    {
     "data": {
      "text/plain": [
       "TextBlob(\"He is a great person. He believes in god\")"
      ]
     },
     "execution_count": 59,
     "metadata": {},
     "output_type": "execute_result"
    }
   ],
   "source": [
    "text =TextBlob(text)\n",
    "text.correct()"
   ]
  },
  {
   "cell_type": "code",
   "execution_count": 65,
   "metadata": {},
   "outputs": [],
   "source": [
    "text=\" Having lots of fun #goa #vaction #summervacation. Fancy dinner @Beachbay restro :) \""
   ]
  },
  {
   "cell_type": "code",
   "execution_count": 66,
   "metadata": {},
   "outputs": [
    {
     "data": {
      "text/plain": [
       "['Having',\n",
       " 'lots',\n",
       " 'of',\n",
       " 'fun',\n",
       " 'goa',\n",
       " 'vaction',\n",
       " 'summervacation',\n",
       " 'Fancy',\n",
       " 'dinner',\n",
       " 'Beachbay',\n",
       " 'restro']"
      ]
     },
     "execution_count": 66,
     "metadata": {},
     "output_type": "execute_result"
    }
   ],
   "source": [
    "import re\n",
    "\n",
    "text = re.sub('[^\\w]',' ', text)\n",
    "\n",
    "from nltk.tokenize import TweetTokenizer\n",
    "tokenizer = TweetTokenizer()\n",
    "tokenizer.tokenize(text)"
   ]
  },
  {
   "cell_type": "code",
   "execution_count": 67,
   "metadata": {},
   "outputs": [],
   "source": [
    "text=\"James works at Microsoft. She lives in manchester and likes to play the flute\""
   ]
  },
  {
   "cell_type": "code",
   "execution_count": 69,
   "metadata": {},
   "outputs": [
    {
     "data": {
      "text/plain": [
       "['James', 'Microsoft', 'manchester', 'flute']"
      ]
     },
     "execution_count": 69,
     "metadata": {},
     "output_type": "execute_result"
    }
   ],
   "source": [
    "doc = nlp(text)\n",
    "[t.text for t in doc if t.pos_ in ['NOUN','PROPN']]"
   ]
  },
  {
   "cell_type": "code",
   "execution_count": 6,
   "metadata": {},
   "outputs": [],
   "source": [
    "word1=\"amazing\"\n",
    "word2=\"terrible\"\n",
    "word3=\"excellent\""
   ]
  },
  {
   "cell_type": "code",
   "execution_count": 4,
   "metadata": {},
   "outputs": [],
   "source": [
    "nlp = spacy.load('en_core_web_lg')"
   ]
  },
  {
   "cell_type": "code",
   "execution_count": 7,
   "metadata": {},
   "outputs": [
    {
     "data": {
      "text/plain": [
       "(0.4618907677093859, 0.6388207086737778, 0.37013603549711444)"
      ]
     },
     "execution_count": 7,
     "metadata": {},
     "output_type": "execute_result"
    }
   ],
   "source": [
    "t1,t2,t3 = nlp(word1),nlp(word2),nlp(word3)\n",
    "t1.similarity(t2), t1.similarity(t3), t2.similarity(t3)"
   ]
  },
  {
   "cell_type": "code",
   "execution_count": 9,
   "metadata": {},
   "outputs": [
    {
     "data": {
      "text/plain": [
       "0.7928170836310687"
      ]
     },
     "execution_count": 9,
     "metadata": {},
     "output_type": "execute_result"
    }
   ],
   "source": [
    "text1=\"John lives in Canada\"\n",
    "text2=\"James lives in America, though he's not from there\"\n",
    "t1,t2 = nlp(text1), nlp(text2)\n",
    "t1.similarity(t2)"
   ]
  },
  {
   "cell_type": "code",
   "execution_count": 10,
   "metadata": {},
   "outputs": [
    {
     "name": "stdout",
     "output_type": "stream",
     "text": [
      "  (0, 8)\t1\n",
      "  (0, 5)\t1\n",
      "  (0, 4)\t1\n",
      "  (0, 9)\t1\n",
      "  (0, 7)\t1\n",
      "  (0, 2)\t1\n",
      "  (0, 3)\t1\n",
      "  (1, 4)\t1\n",
      "  (1, 9)\t1\n",
      "  (1, 7)\t1\n",
      "  (1, 2)\t1\n",
      "  (1, 1)\t1\n",
      "  (1, 10)\t1\n",
      "  (1, 6)\t1\n",
      "  (1, 0)\t2\n",
      "[[0 0 1 1 1 1 0 1 1 1 0]\n",
      " [2 1 1 0 1 0 1 1 0 1 1]]\n"
     ]
    },
    {
     "data": {
      "text/plain": [
       "array([[1.        , 0.45584231],\n",
       "       [0.45584231, 1.        ]])"
      ]
     },
     "execution_count": 10,
     "metadata": {},
     "output_type": "execute_result"
    }
   ],
   "source": [
    "text1='Taj Mahal is a tourist place in India'\n",
    "text2='Great Wall of China is a tourist place in china'\n",
    "documents = [text1, text2]\n",
    "from sklearn.feature_extraction.text import CountVectorizer\n",
    "from sklearn.metrics.pairwise import cosine_similarity\n",
    "import pandas as pd\n",
    "# https://www.machinelearningplus.com/nlp/cosine-similarity/\n",
    "\n",
    "vectorizer = CountVectorizer()\n",
    "matrix = vectorizer.fit_transform(documents)\n",
    "print(matrix)\n",
    "doc_term_matrix = matrix.todense()\n",
    "print(doc_term_matrix)\n",
    "\n",
    "df = pd.DataFrame(doc_term_matrix)\n",
    "\n",
    "cosine_similarity(df,df)"
   ]
  },
  {
   "cell_type": "code",
   "execution_count": 11,
   "metadata": {},
   "outputs": [
    {
     "ename": "NameError",
     "evalue": "name 'corpora' is not defined",
     "output_type": "error",
     "traceback": [
      "\u001b[0;31m---------------------------------------------------------------------------\u001b[0m",
      "\u001b[0;31mNameError\u001b[0m                                 Traceback (most recent call last)",
      "\u001b[0;32m<ipython-input-11-9a7814630ba7>\u001b[0m in \u001b[0;36m<module>\u001b[0;34m\u001b[0m\n\u001b[0;32m----> 1\u001b[0;31m \u001b[0mdictionary\u001b[0m \u001b[0;34m=\u001b[0m \u001b[0mcorpora\u001b[0m\u001b[0;34m.\u001b[0m\u001b[0mDictionary\u001b[0m\u001b[0;34m(\u001b[0m\u001b[0;34m[\u001b[0m\u001b[0msimple_preprocess\u001b[0m\u001b[0;34m(\u001b[0m\u001b[0mdoc\u001b[0m\u001b[0;34m)\u001b[0m \u001b[0;32mfor\u001b[0m \u001b[0mdoc\u001b[0m \u001b[0;32min\u001b[0m \u001b[0mdocuments\u001b[0m\u001b[0;34m]\u001b[0m\u001b[0;34m)\u001b[0m\u001b[0;34m\u001b[0m\u001b[0;34m\u001b[0m\u001b[0m\n\u001b[0m",
      "\u001b[0;31mNameError\u001b[0m: name 'corpora' is not defined"
     ]
    }
   ],
   "source": [
    "dictionary = corpora.Dictionary([simple_preprocess(doc) for doc in documents])"
   ]
  },
  {
   "cell_type": "code",
   "execution_count": 13,
   "metadata": {},
   "outputs": [
    {
     "name": "stdout",
     "output_type": "stream",
     "text": [
      "[=====---------------------------------------------] 10.8% 178.8/1662.8MB downloaded"
     ]
    },
    {
     "name": "stderr",
     "output_type": "stream",
     "text": [
      "IOPub message rate exceeded.\n",
      "The notebook server will temporarily stop sending output\n",
      "to the client in order to avoid crashing it.\n",
      "To change this limit, set the config variable\n",
      "`--NotebookApp.iopub_msg_rate_limit`.\n",
      "\n",
      "Current values:\n",
      "NotebookApp.iopub_msg_rate_limit=1000.0 (msgs/sec)\n",
      "NotebookApp.rate_limit_window=3.0 (secs)\n",
      "\n"
     ]
    },
    {
     "name": "stdout",
     "output_type": "stream",
     "text": [
      "[=========-----------------------------------------] 19.3% 320.5/1662.8MB downloaded"
     ]
    },
    {
     "name": "stderr",
     "output_type": "stream",
     "text": [
      "IOPub message rate exceeded.\n",
      "The notebook server will temporarily stop sending output\n",
      "to the client in order to avoid crashing it.\n",
      "To change this limit, set the config variable\n",
      "`--NotebookApp.iopub_msg_rate_limit`.\n",
      "\n",
      "Current values:\n",
      "NotebookApp.iopub_msg_rate_limit=1000.0 (msgs/sec)\n",
      "NotebookApp.rate_limit_window=3.0 (secs)\n",
      "\n"
     ]
    },
    {
     "name": "stdout",
     "output_type": "stream",
     "text": [
      "[==================================================] 100.0% 1662.8/1662.8MB downloaded\n"
     ]
    },
    {
     "data": {
      "text/plain": [
       "[('sh_*_t', 0.8806686401367188),\n",
       " ('crap', 0.8299816250801086),\n",
       " ('fucking', 0.8001799583435059),\n",
       " ('sh_t', 0.7744057178497314),\n",
       " ('fuckin', 0.7668500542640686),\n",
       " ('sh_**', 0.7638066411018372),\n",
       " ('fuck', 0.7604621648788452),\n",
       " ('f_*_cking', 0.7250384092330933),\n",
       " (\"y'know\", 0.7228368520736694),\n",
       " ('shyt', 0.7212573885917664)]"
      ]
     },
     "execution_count": 13,
     "metadata": {},
     "output_type": "execute_result"
    }
   ],
   "source": [
    "import gensim.downloader as api\n",
    "\n",
    "\n",
    "word2vec_model300 = api.load('word2vec-google-news-300')\n",
    "\n",
    "word2vec_model300.most_similar('shit')"
   ]
  },
  {
   "cell_type": "code",
   "execution_count": 17,
   "metadata": {},
   "outputs": [
    {
     "name": "stderr",
     "output_type": "stream",
     "text": [
      "/Users/origami/opt/miniconda3/lib/python3.7/site-packages/ipykernel_launcher.py:7: DeprecationWarning: Call to deprecated `wmdistance` (Method will be removed in 4.0.0, use self.wv.wmdistance() instead).\n",
      "  import sys\n"
     ]
    },
    {
     "data": {
      "text/plain": [
       "inf"
      ]
     },
     "execution_count": 17,
     "metadata": {},
     "output_type": "execute_result"
    }
   ],
   "source": [
    "sentence_orange = 'Oranges are my favorite fruit'\n",
    "sent=\"apples are not my favorite\"\n",
    "import gensim\n",
    "from gensim.models import Word2Vec\n",
    "model = Word2Vec()\n",
    "\n",
    "distance = model.wmdistance(sent, sentence_orange)\n",
    "distance"
   ]
  },
  {
   "cell_type": "code",
   "execution_count": 2,
   "metadata": {},
   "outputs": [
    {
     "name": "stderr",
     "output_type": "stream",
     "text": [
      "/Users/origami/opt/miniconda3/lib/python3.7/importlib/_bootstrap.py:219: RuntimeWarning: spacy.morphology.Morphology size changed, may indicate binary incompatibility. Expected 104 from C header, got 112 from PyObject\n",
      "  return f(*args, **kwds)\n",
      "/Users/origami/opt/miniconda3/lib/python3.7/importlib/_bootstrap.py:219: RuntimeWarning: spacy.vocab.Vocab size changed, may indicate binary incompatibility. Expected 96 from C header, got 112 from PyObject\n",
      "  return f(*args, **kwds)\n",
      "/Users/origami/opt/miniconda3/lib/python3.7/importlib/_bootstrap.py:219: RuntimeWarning: spacy.tokens.span.Span size changed, may indicate binary incompatibility. Expected 72 from C header, got 80 from PyObject\n",
      "  return f(*args, **kwds)\n"
     ]
    },
    {
     "data": {
      "text/plain": [
       "<spacy.lang.en.English at 0x7f808b6f6d10>"
      ]
     },
     "execution_count": 2,
     "metadata": {},
     "output_type": "execute_result"
    }
   ],
   "source": [
    "import spacy\n",
    "import neuralcoref\n",
    "nlp = spacy.load('en')\n",
    "neuralcoref.add_to_pipe(nlp)\n",
    "doc = nlp('my sister has a dog. she loves him')\n"
   ]
  },
  {
   "cell_type": "code",
   "execution_count": 1,
   "metadata": {},
   "outputs": [],
   "source": [
    "texts= [\"\"\"It's all about travel. I travel a lot.  those who do not travel read only a page.” – said Saint Augustine. He was a great travel person. Travelling can teach you more than any university course. You learn about the culture of the country you visit. If you talk to locals, you will likely learn about their thinking, habits, traditions and history as well.If you travel, you will not only learn about foreign cultures, but about your own as well. You will notice the cultural differences, and will find out what makes your culture unique. After retrurning from a long journey, you will see your country with new eyes.\"\"\",\n",
    "        \"\"\" You can learn a lot about yourself through travelling. You can observe how you feel beeing far from your country. You will find out how you feel about your homeland.You should travel You will realise how you really feel about foreign people. You will find out how much you know/do not know about the world. You will be able to observe how you react in completely new situations. You will test your language, orientational and social skills. You will not be the same person after returning home.During travelling you will meet people that are very different from you. If you travel enough, you will learn to accept and appreciate these differences. Traveling makes you more open and accepting.\"\"\",\n",
    "        \"\"\"Some of my most cherished memories are from the times when I was travelling. If you travel, you can experience things that you could never experience at home. You may see beautiful places and landscapes that do not exist where you live. You may meet people that will change your life, and your thingking. You may try activities that you have never tried before.Travelling will inevitably make you more independent and confident. You will realise that you can cope with a lot of unexpected situations. You will realise that you can survive without all that help that is always available for you at home. You will likely find out that you are much stronger and braver than you have expected.\"\"\",\n",
    "        \"\"\"If you travel, you may learn a lot of useful things. These things can be anything from a new recepie, to a new, more effective solution to an ordinary problem or a new way of creating something.Even if you go to a country where they speak the same language as you, you may still learn some new words and expressions that are only used there. If you go to a country where they speak a different language, you will learn even more.\"\"\",\n",
    "        \"\"\"After arriving home from a long journey, a lot of travellers experience that they are much more motivated than they were before they left. During your trip you may learn things that you will want to try at home as well. You may want to test your new skills and knowledge. Your experiences will give you a lot of energy.During travelling you may experience the craziest, most exciting things, that will eventually become great stories that you can tell others. When you grow old and look back at your life and all your travel experiences, you will realise how much you have done in your life and your life was not in vain. It can provide you with happiness and satisfaction for the rest of your life.\"\"\",\n",
    "        \"\"\"The benefits of travel are not just a one-time thing: travel changes you physically and psychologically. Having little time or money isn't a valid excuse. You can travel for cheap very easily. If you have a full-time job and a family, you can still travel on the weekends or holidays, even with a baby. travel  more is likely to have a tremendous impact on your mental well-being, especially if you're no used to going out of your comfort zone. Trust me: travel more and your doctor will be happy. Be sure to get in touch with your physician, they might recommend some medication to accompany you in your travels, especially if you're heading to regions of the globe with potentially dangerous diseases.\"\"\",\n",
    "        \"\"\"Sure, you probably feel comfortable where you are, but that is just a fraction of the world! If you are a student, take advantage of programs such as Erasmus to get to know more people, experience and understand their culture. Dare traveling to regions you have a skeptical opinion about. I bet that you will change your mind and realize that everything is not so bad abroad.\"\"\",\n",
    "        \"\"\" So, travel makes you cherish life. Let's travel more . Share your travel diaries with us too\"\"\"\n",
    "        ]"
   ]
  },
  {
   "cell_type": "code",
   "execution_count": 10,
   "metadata": {},
   "outputs": [
    {
     "name": "stdout",
     "output_type": "stream",
     "text": [
      "('learn', 0.3145464990127174)\n",
      "('new', 0.24276887654511498)\n",
      "('life', 0.21623149060593527)\n",
      "('travelling', 0.20361957846188675)\n",
      "('country', 0.20158884779493674)\n",
      "('feel', 0.186996555867904)\n",
      "('things', 0.1844638734334487)\n",
      "('life', 0.3681575062245683)\n",
      "('cherish', 0.1876034336675825)\n",
      "('diaries', 0.1876034336675825)\n",
      "('let', 0.1876034336675825)\n",
      "('share', 0.1876034336675825)\n",
      "('experience', 0.18561909751284994)\n",
      "('home', 0.1759513897826339)\n",
      "('feel', 0.18595888641475752)\n",
      "('know', 0.16228979005947625)\n",
      "('time', 0.1619556475246673)\n",
      "('people', 0.16144889194033082)\n",
      "('just', 0.16019542148843235)\n",
      "('regions', 0.16019542148843235)\n",
      "('sure', 0.16019542148843235)\n",
      "('time', 0.34523558147143446)\n",
      "('especially', 0.23015705431428976)\n",
      "('cherish', 0.17481828320567264)\n",
      "('diaries', 0.17481828320567264)\n",
      "('let', 0.17481828320567264)\n",
      "('share', 0.17481828320567264)\n",
      "('life', 0.12456429876785459)\n",
      "('cherish', 0.3144929114129504)\n",
      "('diaries', 0.3144929114129504)\n",
      "('let', 0.3144929114129504)\n",
      "('share', 0.3144929114129504)\n",
      "('makes', 0.2604464957460724)\n",
      "('feel', 0.13234529303803153)\n",
      "('know', 0.11070439061790799)\n",
      "('culture', 0.2405823855908671)\n",
      "('augustine', 0.14515822018857533)\n",
      "('course', 0.14515822018857533)\n",
      "('cultural', 0.14515822018857533)\n",
      "('cultures', 0.14515822018857533)\n",
      "('eyes', 0.14515822018857533)\n",
      "('habits', 0.14515822018857533)\n",
      "('experiences', 0.18510496433252377)\n",
      "('want', 0.18510496433252377)\n",
      "('life', 0.14760699946419417)\n",
      "('things', 0.12586446506075083)\n",
      "('abroad', 0.11186369856122658)\n",
      "('advantage', 0.11186369856122652)\n",
      "('bad', 0.11186369856122652)\n",
      "('observe', 0.20030575445997267)\n",
      "('feel', 0.19817656155291818)\n",
      "('experiences', 0.15555961193233353)\n",
      "('want', 0.15555961193233353)\n",
      "('skills', 0.14912147523549527)\n",
      "('test', 0.14912147523549527)\n",
      "('know', 0.11424063402491755)\n"
     ]
    }
   ],
   "source": [
    "from sklearn.feature_extraction.text import TfidfVectorizer\n",
    "\n",
    "vectorizer = TfidfVectorizer(stop_words='english', max_features=1000, max_df=0.5, smooth_idf=True)\n",
    "\n",
    "matrix = vectorizer.fit_transform(texts)\n",
    "\n",
    "from sklearn.decomposition import TruncatedSVD\n",
    "SVD_model = TruncatedSVD(n_components=10, algorithm='randomized', n_iter=100, random_state=122)\n",
    "SVD_model.fit(matrix)\n",
    "\n",
    "terms = vectorizer.get_feature_names()\n",
    "\n",
    "for i,comp in enumerate(SVD_model.components_):\n",
    "    terms_comp = zip(terms, comp)\n",
    "    sorted_terms = sorted(terms_comp, key= lambda x:x[1], reverse=True)[:7]\n",
    "    for t in sorted_terms:\n",
    "        print(t)"
   ]
  },
  {
   "cell_type": "markdown",
   "metadata": {},
   "source": [
    "26"
   ]
  },
  {
   "cell_type": "code",
   "execution_count": null,
   "metadata": {},
   "outputs": [],
   "source": []
  }
 ],
 "metadata": {
  "kernelspec": {
   "display_name": "Python 3",
   "language": "python",
   "name": "python3"
  },
  "language_info": {
   "codemirror_mode": {
    "name": "ipython",
    "version": 3
   },
   "file_extension": ".py",
   "mimetype": "text/x-python",
   "name": "python",
   "nbconvert_exporter": "python",
   "pygments_lexer": "ipython3",
   "version": "3.7.7"
  }
 },
 "nbformat": 4,
 "nbformat_minor": 4
}
