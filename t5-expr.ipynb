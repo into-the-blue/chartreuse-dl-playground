{
 "cells": [
  {
   "cell_type": "code",
   "execution_count": 39,
   "id": "46dc814e",
   "metadata": {},
   "outputs": [],
   "source": [
    "from transformers import T5ForConditionalGeneration,T5Tokenizer,T5Model,pipeline,PreTrainedModel,PreTrainedTokenizer,AutoTokenizer,AutoModelForSeq2SeqLM\n",
    "# tokenizer = T5Tokenizer.from_pretrained('t5-base')\n",
    "# model = T5Model.from_pretrained('t5-base')"
   ]
  },
  {
   "cell_type": "code",
   "execution_count": 45,
   "id": "a910757a",
   "metadata": {
    "scrolled": true
   },
   "outputs": [
    {
     "data": {
      "application/vnd.jupyter.widget-view+json": {
       "model_id": "660ea0fa157648298000cc7ecfeb6f3b",
       "version_major": 2,
       "version_minor": 0
      },
      "text/plain": [
       "HBox(children=(HTML(value='Downloading'), FloatProgress(value=0.0, max=1403.0), HTML(value='')))"
      ]
     },
     "metadata": {},
     "output_type": "display_data"
    },
    {
     "name": "stdout",
     "output_type": "stream",
     "text": [
      "\n"
     ]
    },
    {
     "data": {
      "application/vnd.jupyter.widget-view+json": {
       "model_id": "f0c82508253e41088b3b6b65253a368e",
       "version_major": 2,
       "version_minor": 0
      },
      "text/plain": [
       "HBox(children=(HTML(value='Downloading'), FloatProgress(value=0.0, max=806435.0), HTML(value='')))"
      ]
     },
     "metadata": {},
     "output_type": "display_data"
    },
    {
     "name": "stdout",
     "output_type": "stream",
     "text": [
      "\n"
     ]
    },
    {
     "data": {
      "application/vnd.jupyter.widget-view+json": {
       "model_id": "edc525193c8440f696175b58e5ff68a0",
       "version_major": 2,
       "version_minor": 0
      },
      "text/plain": [
       "HBox(children=(HTML(value='Downloading'), FloatProgress(value=0.0, max=804600.0), HTML(value='')))"
      ]
     },
     "metadata": {},
     "output_type": "display_data"
    },
    {
     "name": "stdout",
     "output_type": "stream",
     "text": [
      "\n"
     ]
    },
    {
     "data": {
      "application/vnd.jupyter.widget-view+json": {
       "model_id": "a0cb284310a549baaff65eac26fa586e",
       "version_major": 2,
       "version_minor": 0
      },
      "text/plain": [
       "HBox(children=(HTML(value='Downloading'), FloatProgress(value=0.0, max=1617791.0), HTML(value='')))"
      ]
     },
     "metadata": {},
     "output_type": "display_data"
    },
    {
     "name": "stdout",
     "output_type": "stream",
     "text": [
      "\n"
     ]
    },
    {
     "data": {
      "application/vnd.jupyter.widget-view+json": {
       "model_id": "4afa77abb7c34ed2accb9d1573e66bb5",
       "version_major": 2,
       "version_minor": 0
      },
      "text/plain": [
       "HBox(children=(HTML(value='Downloading'), FloatProgress(value=0.0, max=44.0), HTML(value='')))"
      ]
     },
     "metadata": {},
     "output_type": "display_data"
    },
    {
     "name": "stdout",
     "output_type": "stream",
     "text": [
      "\n"
     ]
    },
    {
     "data": {
      "application/vnd.jupyter.widget-view+json": {
       "model_id": "f890a329f6cd4a49959e8ddf0eeefe2f",
       "version_major": 2,
       "version_minor": 0
      },
      "text/plain": [
       "HBox(children=(HTML(value='Downloading'), FloatProgress(value=0.0, max=312087009.0), HTML(value='')))"
      ]
     },
     "metadata": {},
     "output_type": "display_data"
    },
    {
     "name": "stdout",
     "output_type": "stream",
     "text": [
      "\n"
     ]
    }
   ],
   "source": [
    "tokenizer = AutoTokenizer.from_pretrained(\"Helsinki-NLP/opus-mt-en-zh\")\n",
    "model = AutoModelForSeq2SeqLM.from_pretrained(\"Helsinki-NLP/opus-mt-en-zh\")\n",
    "document = \"at least two people were killed in a suspected bomb attack on a passenger bus \"\n",
    " # encode input context\n",
    "input_ids = tokenizer(document, return_tensors=\"pt\").input_ids\n",
    " # generate 3 independent sequences using beam search decoding (5 beams)\n",
    "# with T5 encoder-decoder model conditioned on short news article.\n",
    "outputs = model.generate(input_ids=input_ids, num_beams=5, num_return_sequences=3)"
   ]
  },
  {
   "cell_type": "code",
   "execution_count": 46,
   "id": "90e20c6c",
   "metadata": {},
   "outputs": [
    {
     "data": {
      "text/plain": [
       "tensor([[65000,   106,    65, 17634,  6527,  2174,    12, 11189,  4121,    82,\n",
       "             2,  2986,  1892, 18707,     0, 65000, 65000, 65000, 65000, 65000],\n",
       "        [65000,   106,    65, 17634,  6527,  2174,    12, 11189,  4121,    82,\n",
       "             2,  2986,  5513, 11525, 12876, 11189,  4121,    82, 17925,     0],\n",
       "        [65000,   106,    65, 17634,  6527,  2174,    12, 11189,  4121,    82,\n",
       "             2,  2986,  1892, 18707,    10,     0, 65000, 65000, 65000, 65000]])"
      ]
     },
     "execution_count": 46,
     "metadata": {},
     "output_type": "execute_result"
    }
   ],
   "source": [
    "outputs"
   ]
  },
  {
   "cell_type": "code",
   "execution_count": 47,
   "id": "6da5ebf0",
   "metadata": {},
   "outputs": [
    {
     "data": {
      "text/plain": [
       "['在对一辆客车的炸弹袭击中,至少两人死亡', '在对一辆客车的炸弹袭击中,至少两名疑似炸弹袭击中丧生', '在对一辆客车的炸弹袭击中,至少两人死亡。']"
      ]
     },
     "execution_count": 47,
     "metadata": {},
     "output_type": "execute_result"
    }
   ],
   "source": [
    "tokenizer.batch_decode(outputs, skip_special_tokens=True)"
   ]
  },
  {
   "cell_type": "code",
   "execution_count": 43,
   "id": "f91904f9",
   "metadata": {},
   "outputs": [
    {
     "data": {
      "text/plain": [
       "'<pad><extra_id_0> at least two people were killed in a suspected bomb attack on a passenger bus '"
      ]
     },
     "execution_count": 43,
     "metadata": {},
     "output_type": "execute_result"
    }
   ],
   "source": [
    "tokenizer.decode(outputs[1])"
   ]
  },
  {
   "cell_type": "code",
   "execution_count": 13,
   "id": "aa75c47e",
   "metadata": {},
   "outputs": [
    {
     "data": {
      "application/vnd.jupyter.widget-view+json": {
       "model_id": "1680e459fa634a7581658f559f36e07d",
       "version_major": 2,
       "version_minor": 0
      },
      "text/plain": [
       "HBox(children=(HTML(value='Downloading'), FloatProgress(value=0.0, max=1389353.0), HTML(value='')))"
      ]
     },
     "metadata": {},
     "output_type": "display_data"
    },
    {
     "name": "stdout",
     "output_type": "stream",
     "text": [
      "\n"
     ]
    }
   ],
   "source": [
    "# zh_to_en = pipeline('translation_zh_to_en')\n",
    "en_to_zh = pipeline(src_lang='en',tgt_lang='zh',)"
   ]
  },
  {
   "cell_type": "code",
   "execution_count": 15,
   "id": "958662c8",
   "metadata": {},
   "outputs": [],
   "source": [
    "PreTrainedModel??"
   ]
  },
  {
   "cell_type": "code",
   "execution_count": null,
   "id": "9d97e53e",
   "metadata": {},
   "outputs": [],
   "source": []
  }
 ],
 "metadata": {
  "kernelspec": {
   "display_name": "Python 3",
   "language": "python",
   "name": "python3"
  },
  "language_info": {
   "codemirror_mode": {
    "name": "ipython",
    "version": 3
   },
   "file_extension": ".py",
   "mimetype": "text/x-python",
   "name": "python",
   "nbconvert_exporter": "python",
   "pygments_lexer": "ipython3",
   "version": "3.8.2"
  }
 },
 "nbformat": 4,
 "nbformat_minor": 5
}
